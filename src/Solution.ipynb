{
 "cells": [
  {
   "attachments": {},
   "cell_type": "markdown",
   "metadata": {},
   "source": [
    "# Solution\n",
    "The following is the solution for 0.7535 micro f1 score solution"
   ]
  },
  {
   "attachments": {},
   "cell_type": "markdown",
   "metadata": {},
   "source": [
    "## Imports"
   ]
  },
  {
   "cell_type": "code",
   "execution_count": 1,
   "metadata": {},
   "outputs": [],
   "source": [
    "## Uncomment this incase you want to run it on google colab\n",
    "# from google.colab import drive\n",
    "# drive.mount('/content/drive')"
   ]
  },
  {
   "cell_type": "code",
   "execution_count": 2,
   "metadata": {},
   "outputs": [],
   "source": [
    "import numpy as np\n",
    "import pandas as pd\n",
    "from xgboost import XGBClassifier\n",
    "from sklearn.model_selection import StratifiedKFold, cross_val_score, train_test_split\n",
    "from sklearn.metrics import f1_score\n",
    "from xgboost import XGBClassifier\n",
    "\n",
    "\n",
    "# Preprocessing\n",
    "from sklearn.compose import ColumnTransformer\n",
    "from sklearn.pipeline import make_pipeline, Pipeline\n",
    "from sklearn.preprocessing import OneHotEncoder, StandardScaler, RobustScaler, FunctionTransformer\n",
    "from sklearn.base import BaseEstimator, TransformerMixin, ClassNamePrefixFeaturesOutMixin\n",
    "\n",
    "from pathlib import Path\n",
    "import pickle\n",
    "from os import PathLike\n",
    "import torch"
   ]
  },
  {
   "attachments": {},
   "cell_type": "markdown",
   "metadata": {},
   "source": [
    "## Constants"
   ]
  },
  {
   "cell_type": "code",
   "execution_count": 3,
   "metadata": {},
   "outputs": [],
   "source": [
    "# Replace these with your file paths\n",
    "\n",
    "BASE_DIR = Path('d:\\\\', 'ml_competitions', 'gorkha_earthquake')\n",
    "DATA_DIR = BASE_DIR / 'data' / 'raw'\n",
    "MODEL_DIR = BASE_DIR / 'models'\n",
    "SUBMISSION_DIR = BASE_DIR / 'submissions'\n",
    "\n",
    "TRAINING_FEATURES_PATH = DATA_DIR / \"train_values.csv\"\n",
    "TRAINING_LABELS_PATH = DATA_DIR / \"train_labels.csv\"\n",
    "TEST_FEATURES_PATH = DATA_DIR / \"test_values.csv\"\n",
    "SUBMISSION_FORMAT_PATH = DATA_DIR / \"submission_format.csv\"\n",
    "\n",
    "DEVICE = torch.device('cuda' if torch.cuda.is_available() else 'cpu')"
   ]
  },
  {
   "attachments": {},
   "cell_type": "markdown",
   "metadata": {},
   "source": [
    "## Data Loading"
   ]
  },
  {
   "cell_type": "code",
   "execution_count": 4,
   "metadata": {},
   "outputs": [],
   "source": [
    "features_df         = pd.read_csv(TRAINING_FEATURES_PATH,   index_col=0)\n",
    "labels_df           = pd.read_csv(TRAINING_LABELS_PATH,     index_col=0) - 1\n",
    "test_features_df    = pd.read_csv(TEST_FEATURES_PATH,       index_col=0)"
   ]
  },
  {
   "attachments": {},
   "cell_type": "markdown",
   "metadata": {},
   "source": [
    "## Data Preprocessing"
   ]
  },
  {
   "cell_type": "code",
   "execution_count": 5,
   "metadata": {},
   "outputs": [],
   "source": [
    "# Setup\n",
    "\n",
    "geo_level_columns = ['geo_level_1_id', 'geo_level_2_id', 'geo_level_3_id']\n",
    "numerical_columns = ['count_floors_pre_eq', 'age', 'area_percentage', 'height_percentage', 'count_families']\n",
    "categorical_columns = ['foundation_type', 'ground_floor_type', 'land_surface_condition', \n",
    "                       'legal_ownership_status', 'other_floor_type',\n",
    "                       'plan_configuration', 'position', 'roof_type']"
   ]
  },
  {
   "cell_type": "code",
   "execution_count": 6,
   "metadata": {},
   "outputs": [],
   "source": [
    "class ThresholdReplacer(BaseEstimator, TransformerMixin, ClassNamePrefixFeaturesOutMixin):\n",
    "    \n",
    "    def __init__(self, threshold: int, unk_value: int = -1) -> None:\n",
    "        super().__init__()\n",
    "        self.threshold = threshold\n",
    "        self.unk_value = unk_value\n",
    "\n",
    "    def fit(self, X, y=None):\n",
    "        assert isinstance(X, pd.DataFrame)\n",
    "\n",
    "        self.columnwise_keep_categories = {\n",
    "            column: self._get_keep_categories(X[column]) for column in X.columns\n",
    "        }\n",
    "\n",
    "        return self\n",
    "\n",
    "    def transform(self, X):\n",
    "        assert isinstance(X, pd.DataFrame)\n",
    "        out = X.copy()\n",
    "\n",
    "        for column, keep_categories in self.columnwise_keep_categories.items():\n",
    "          unique_values = out[column].unique()\n",
    "          to_replace = set(unique_values).difference(set(keep_categories))\n",
    "          out[column].replace(to_replace, self.unk_value, inplace=True)\n",
    "\n",
    "        return out\n",
    "\n",
    "    def _get_keep_categories(self, series: pd.Series) -> pd.Series:\n",
    "        return ( \n",
    "            series\n",
    "              .value_counts()\n",
    "              .index[(series.value_counts() > self.threshold)]\n",
    "        ) # type: ignore"
   ]
  },
  {
   "cell_type": "code",
   "execution_count": 12,
   "metadata": {},
   "outputs": [],
   "source": [
    "class DREncoder(torch.nn.Module):\n",
    "\n",
    "    def __init__(self, \n",
    "                 latent_dim: int=16, \n",
    "                 geo_lv1_size: int=31, \n",
    "                 geo_lv2_size: int=1414,\n",
    "                 geo_lv3_size: int=11861) -> None:\n",
    "        super().__init__()\n",
    "        self.geo_level1_embeddings = torch.nn.Embedding(geo_lv1_size, 16)\n",
    "        self.geo_level2_embeddings = torch.nn.Embedding(geo_lv2_size, 128)\n",
    "        self.geo_level3_embeddings = torch.nn.Embedding(geo_lv3_size, 128) \n",
    "        self.compressor = torch.nn.Linear(16+128+128, latent_dim)\n",
    "\n",
    "    def forward(self, x):\n",
    "        x_1 = self.geo_level1_embeddings(x[:, 0])\n",
    "        x_2 = self.geo_level2_embeddings(x[:, 1])\n",
    "        x_3 = self.geo_level3_embeddings(x[:, 2])\n",
    "        x = torch.concat((x_1, x_2, x_3), dim=1)\n",
    "        x = torch.nn.functional.relu(x)\n",
    "        return torch.nn.functional.relu(self.compressor(x))\n",
    "\n",
    "\n",
    "class GeoDimensionReduction0(BaseEstimator, TransformerMixin, ClassNamePrefixFeaturesOutMixin):\n",
    "\n",
    "    def __init__(\n",
    "            self, \n",
    "            path: PathLike,\n",
    "            latent_dim: int=16, \n",
    "            geo_lv1_size: int=31,\n",
    "            geo_lv2_size: int=1418,\n",
    "            geo_lv3_size: int=11861) -> None:\n",
    "        super().__init__()\n",
    "        self.path = path\n",
    "        self.model = DREncoder(\n",
    "            latent_dim, \n",
    "            geo_lv1_size,\n",
    "            geo_lv2_size,\n",
    "            geo_lv3_size\n",
    "        )\n",
    "        self.latent_dim = latent_dim\n",
    "        self.geo_lv1_size = geo_lv1_size\n",
    "        self.geo_lv2_size = geo_lv2_size\n",
    "        self.geo_lv3_size = geo_lv3_size\n",
    "        self.model.load_state_dict(torch.load(path, map_location=DEVICE))\n",
    "\n",
    "    def fit(self, X: pd.DataFrame, y=None, *args, **kwargs):\n",
    "        return self\n",
    "\n",
    "    def transform(self, X: pd.DataFrame, y=None, *args, **kwargs):\n",
    "        # Convert pd to numpy\n",
    "        if isinstance(X, pd.DataFrame):\n",
    "            X = X.values # type: ignore\n",
    "        # Apply encoder\n",
    "        self.model.eval()\n",
    "        X = torch.from_numpy(X).type(torch.long) # type: ignore\n",
    "        return self.model(X).detach().numpy()\n",
    "    "
   ]
  },
  {
   "cell_type": "code",
   "execution_count": 15,
   "metadata": {},
   "outputs": [
    {
     "data": {
      "text/html": [
       "<style>#sk-container-id-3 {color: black;background-color: white;}#sk-container-id-3 pre{padding: 0;}#sk-container-id-3 div.sk-toggleable {background-color: white;}#sk-container-id-3 label.sk-toggleable__label {cursor: pointer;display: block;width: 100%;margin-bottom: 0;padding: 0.3em;box-sizing: border-box;text-align: center;}#sk-container-id-3 label.sk-toggleable__label-arrow:before {content: \"▸\";float: left;margin-right: 0.25em;color: #696969;}#sk-container-id-3 label.sk-toggleable__label-arrow:hover:before {color: black;}#sk-container-id-3 div.sk-estimator:hover label.sk-toggleable__label-arrow:before {color: black;}#sk-container-id-3 div.sk-toggleable__content {max-height: 0;max-width: 0;overflow: hidden;text-align: left;background-color: #f0f8ff;}#sk-container-id-3 div.sk-toggleable__content pre {margin: 0.2em;color: black;border-radius: 0.25em;background-color: #f0f8ff;}#sk-container-id-3 input.sk-toggleable__control:checked~div.sk-toggleable__content {max-height: 200px;max-width: 100%;overflow: auto;}#sk-container-id-3 input.sk-toggleable__control:checked~label.sk-toggleable__label-arrow:before {content: \"▾\";}#sk-container-id-3 div.sk-estimator input.sk-toggleable__control:checked~label.sk-toggleable__label {background-color: #d4ebff;}#sk-container-id-3 div.sk-label input.sk-toggleable__control:checked~label.sk-toggleable__label {background-color: #d4ebff;}#sk-container-id-3 input.sk-hidden--visually {border: 0;clip: rect(1px 1px 1px 1px);clip: rect(1px, 1px, 1px, 1px);height: 1px;margin: -1px;overflow: hidden;padding: 0;position: absolute;width: 1px;}#sk-container-id-3 div.sk-estimator {font-family: monospace;background-color: #f0f8ff;border: 1px dotted black;border-radius: 0.25em;box-sizing: border-box;margin-bottom: 0.5em;}#sk-container-id-3 div.sk-estimator:hover {background-color: #d4ebff;}#sk-container-id-3 div.sk-parallel-item::after {content: \"\";width: 100%;border-bottom: 1px solid gray;flex-grow: 1;}#sk-container-id-3 div.sk-label:hover label.sk-toggleable__label {background-color: #d4ebff;}#sk-container-id-3 div.sk-serial::before {content: \"\";position: absolute;border-left: 1px solid gray;box-sizing: border-box;top: 0;bottom: 0;left: 50%;z-index: 0;}#sk-container-id-3 div.sk-serial {display: flex;flex-direction: column;align-items: center;background-color: white;padding-right: 0.2em;padding-left: 0.2em;position: relative;}#sk-container-id-3 div.sk-item {position: relative;z-index: 1;}#sk-container-id-3 div.sk-parallel {display: flex;align-items: stretch;justify-content: center;background-color: white;position: relative;}#sk-container-id-3 div.sk-item::before, #sk-container-id-3 div.sk-parallel-item::before {content: \"\";position: absolute;border-left: 1px solid gray;box-sizing: border-box;top: 0;bottom: 0;left: 50%;z-index: -1;}#sk-container-id-3 div.sk-parallel-item {display: flex;flex-direction: column;z-index: 1;position: relative;background-color: white;}#sk-container-id-3 div.sk-parallel-item:first-child::after {align-self: flex-end;width: 50%;}#sk-container-id-3 div.sk-parallel-item:last-child::after {align-self: flex-start;width: 50%;}#sk-container-id-3 div.sk-parallel-item:only-child::after {width: 0;}#sk-container-id-3 div.sk-dashed-wrapped {border: 1px dashed gray;margin: 0 0.4em 0.5em 0.4em;box-sizing: border-box;padding-bottom: 0.4em;background-color: white;}#sk-container-id-3 div.sk-label label {font-family: monospace;font-weight: bold;display: inline-block;line-height: 1.2em;}#sk-container-id-3 div.sk-label-container {text-align: center;}#sk-container-id-3 div.sk-container {/* jupyter's `normalize.less` sets `[hidden] { display: none; }` but bootstrap.min.css set `[hidden] { display: none !important; }` so we also need the `!important` here to be able to override the default hidden behavior on the sphinx rendered scikit-learn.org. See: https://github.com/scikit-learn/scikit-learn/issues/21755 */display: inline-block !important;position: relative;}#sk-container-id-3 div.sk-text-repr-fallback {display: none;}</style><div id=\"sk-container-id-3\" class=\"sk-top-container\"><div class=\"sk-text-repr-fallback\"><pre>ColumnTransformer(remainder=&#x27;passthrough&#x27;,\n",
       "                  transformers=[(&#x27;categorical&#x27;,\n",
       "                                 OneHotEncoder(drop=&#x27;first&#x27;,\n",
       "                                               handle_unknown=&#x27;ignore&#x27;,\n",
       "                                               min_frequency=1, sparse=False),\n",
       "                                 [&#x27;foundation_type&#x27;, &#x27;ground_floor_type&#x27;,\n",
       "                                  &#x27;land_surface_condition&#x27;,\n",
       "                                  &#x27;legal_ownership_status&#x27;, &#x27;other_floor_type&#x27;,\n",
       "                                  &#x27;plan_configuration&#x27;, &#x27;position&#x27;, &#x27;roof_type&#x27;,\n",
       "                                  &#x27;geo_level_1_id&#x27;]),\n",
       "                                (&#x27;geo_dim_reduction&#x27;,\n",
       "                                 Pipeli...\n",
       "                                                                                                       func=&lt;function &lt;lambda&gt; at 0x000001728FF36F80&gt;),\n",
       "                                                                                   [&#x27;geo_level_3_id&#x27;])],\n",
       "                                                                    verbose_feature_names_out=False)),\n",
       "                                                 (&#x27;embedder&#x27;,\n",
       "                                                  GeoDimensionReduction(path=WindowsPath(&#x27;d:/ml_competitions/gorkha_earthquake/models/project-dr-16.pt&#x27;)))]),\n",
       "                                 [&#x27;geo_level_1_id&#x27;, &#x27;geo_level_2_id&#x27;,\n",
       "                                  &#x27;geo_level_3_id&#x27;]),\n",
       "                                (&#x27;geo_unk&#x27;, ThresholdReplacer(threshold=3),\n",
       "                                 [&#x27;geo_level_1_id&#x27;, &#x27;geo_level_2_id&#x27;,\n",
       "                                  &#x27;geo_level_3_id&#x27;])])</pre><b>In a Jupyter environment, please rerun this cell to show the HTML representation or trust the notebook. <br />On GitHub, the HTML representation is unable to render, please try loading this page with nbviewer.org.</b></div><div class=\"sk-container\" hidden><div class=\"sk-item sk-dashed-wrapped\"><div class=\"sk-label-container\"><div class=\"sk-label sk-toggleable\"><input class=\"sk-toggleable__control sk-hidden--visually\" id=\"sk-estimator-id-33\" type=\"checkbox\" ><label for=\"sk-estimator-id-33\" class=\"sk-toggleable__label sk-toggleable__label-arrow\">ColumnTransformer</label><div class=\"sk-toggleable__content\"><pre>ColumnTransformer(remainder=&#x27;passthrough&#x27;,\n",
       "                  transformers=[(&#x27;categorical&#x27;,\n",
       "                                 OneHotEncoder(drop=&#x27;first&#x27;,\n",
       "                                               handle_unknown=&#x27;ignore&#x27;,\n",
       "                                               min_frequency=1, sparse=False),\n",
       "                                 [&#x27;foundation_type&#x27;, &#x27;ground_floor_type&#x27;,\n",
       "                                  &#x27;land_surface_condition&#x27;,\n",
       "                                  &#x27;legal_ownership_status&#x27;, &#x27;other_floor_type&#x27;,\n",
       "                                  &#x27;plan_configuration&#x27;, &#x27;position&#x27;, &#x27;roof_type&#x27;,\n",
       "                                  &#x27;geo_level_1_id&#x27;]),\n",
       "                                (&#x27;geo_dim_reduction&#x27;,\n",
       "                                 Pipeli...\n",
       "                                                                                                       func=&lt;function &lt;lambda&gt; at 0x000001728FF36F80&gt;),\n",
       "                                                                                   [&#x27;geo_level_3_id&#x27;])],\n",
       "                                                                    verbose_feature_names_out=False)),\n",
       "                                                 (&#x27;embedder&#x27;,\n",
       "                                                  GeoDimensionReduction(path=WindowsPath(&#x27;d:/ml_competitions/gorkha_earthquake/models/project-dr-16.pt&#x27;)))]),\n",
       "                                 [&#x27;geo_level_1_id&#x27;, &#x27;geo_level_2_id&#x27;,\n",
       "                                  &#x27;geo_level_3_id&#x27;]),\n",
       "                                (&#x27;geo_unk&#x27;, ThresholdReplacer(threshold=3),\n",
       "                                 [&#x27;geo_level_1_id&#x27;, &#x27;geo_level_2_id&#x27;,\n",
       "                                  &#x27;geo_level_3_id&#x27;])])</pre></div></div></div><div class=\"sk-parallel\"><div class=\"sk-parallel-item\"><div class=\"sk-item\"><div class=\"sk-label-container\"><div class=\"sk-label sk-toggleable\"><input class=\"sk-toggleable__control sk-hidden--visually\" id=\"sk-estimator-id-34\" type=\"checkbox\" ><label for=\"sk-estimator-id-34\" class=\"sk-toggleable__label sk-toggleable__label-arrow\">categorical</label><div class=\"sk-toggleable__content\"><pre>[&#x27;foundation_type&#x27;, &#x27;ground_floor_type&#x27;, &#x27;land_surface_condition&#x27;, &#x27;legal_ownership_status&#x27;, &#x27;other_floor_type&#x27;, &#x27;plan_configuration&#x27;, &#x27;position&#x27;, &#x27;roof_type&#x27;, &#x27;geo_level_1_id&#x27;]</pre></div></div></div><div class=\"sk-serial\"><div class=\"sk-item\"><div class=\"sk-estimator sk-toggleable\"><input class=\"sk-toggleable__control sk-hidden--visually\" id=\"sk-estimator-id-35\" type=\"checkbox\" ><label for=\"sk-estimator-id-35\" class=\"sk-toggleable__label sk-toggleable__label-arrow\">OneHotEncoder</label><div class=\"sk-toggleable__content\"><pre>OneHotEncoder(drop=&#x27;first&#x27;, handle_unknown=&#x27;ignore&#x27;, min_frequency=1,\n",
       "              sparse=False)</pre></div></div></div></div></div></div><div class=\"sk-parallel-item\"><div class=\"sk-item\"><div class=\"sk-label-container\"><div class=\"sk-label sk-toggleable\"><input class=\"sk-toggleable__control sk-hidden--visually\" id=\"sk-estimator-id-36\" type=\"checkbox\" ><label for=\"sk-estimator-id-36\" class=\"sk-toggleable__label sk-toggleable__label-arrow\">geo_dim_reduction</label><div class=\"sk-toggleable__content\"><pre>[&#x27;geo_level_1_id&#x27;, &#x27;geo_level_2_id&#x27;, &#x27;geo_level_3_id&#x27;]</pre></div></div></div><div class=\"sk-serial\"><div class=\"sk-item\"><div class=\"sk-serial\"><div class=\"sk-item sk-dashed-wrapped\"><div class=\"sk-label-container\"><div class=\"sk-label sk-toggleable\"><input class=\"sk-toggleable__control sk-hidden--visually\" id=\"sk-estimator-id-37\" type=\"checkbox\" ><label for=\"sk-estimator-id-37\" class=\"sk-toggleable__label sk-toggleable__label-arrow\">label_encoder: ColumnTransformer</label><div class=\"sk-toggleable__content\"><pre>ColumnTransformer(transformers=[(&#x27;geo1_le&#x27;,\n",
       "                                 FunctionTransformer(feature_names_out=&#x27;one-to-one&#x27;,\n",
       "                                                     func=&lt;function &lt;lambda&gt; at 0x0000017286296680&gt;),\n",
       "                                 [&#x27;geo_level_1_id&#x27;]),\n",
       "                                (&#x27;geo2_le&#x27;,\n",
       "                                 FunctionTransformer(feature_names_out=&#x27;one-to-one&#x27;,\n",
       "                                                     func=&lt;function &lt;lambda&gt; at 0x000001728E68F490&gt;),\n",
       "                                 [&#x27;geo_level_2_id&#x27;]),\n",
       "                                (&#x27;geo3_le&#x27;,\n",
       "                                 FunctionTransformer(feature_names_out=&#x27;one-to-one&#x27;,\n",
       "                                                     func=&lt;function &lt;lambda&gt; at 0x000001728FF36F80&gt;),\n",
       "                                 [&#x27;geo_level_3_id&#x27;])],\n",
       "                  verbose_feature_names_out=False)</pre></div></div></div><div class=\"sk-parallel\"><div class=\"sk-parallel-item\"><div class=\"sk-item\"><div class=\"sk-label-container\"><div class=\"sk-label sk-toggleable\"><input class=\"sk-toggleable__control sk-hidden--visually\" id=\"sk-estimator-id-38\" type=\"checkbox\" ><label for=\"sk-estimator-id-38\" class=\"sk-toggleable__label sk-toggleable__label-arrow\">geo1_le</label><div class=\"sk-toggleable__content\"><pre>[&#x27;geo_level_1_id&#x27;]</pre></div></div></div><div class=\"sk-serial\"><div class=\"sk-item\"><div class=\"sk-estimator sk-toggleable\"><input class=\"sk-toggleable__control sk-hidden--visually\" id=\"sk-estimator-id-39\" type=\"checkbox\" ><label for=\"sk-estimator-id-39\" class=\"sk-toggleable__label sk-toggleable__label-arrow\">FunctionTransformer</label><div class=\"sk-toggleable__content\"><pre>FunctionTransformer(feature_names_out=&#x27;one-to-one&#x27;,\n",
       "                    func=&lt;function &lt;lambda&gt; at 0x0000017286296680&gt;)</pre></div></div></div></div></div></div><div class=\"sk-parallel-item\"><div class=\"sk-item\"><div class=\"sk-label-container\"><div class=\"sk-label sk-toggleable\"><input class=\"sk-toggleable__control sk-hidden--visually\" id=\"sk-estimator-id-40\" type=\"checkbox\" ><label for=\"sk-estimator-id-40\" class=\"sk-toggleable__label sk-toggleable__label-arrow\">geo2_le</label><div class=\"sk-toggleable__content\"><pre>[&#x27;geo_level_2_id&#x27;]</pre></div></div></div><div class=\"sk-serial\"><div class=\"sk-item\"><div class=\"sk-estimator sk-toggleable\"><input class=\"sk-toggleable__control sk-hidden--visually\" id=\"sk-estimator-id-41\" type=\"checkbox\" ><label for=\"sk-estimator-id-41\" class=\"sk-toggleable__label sk-toggleable__label-arrow\">FunctionTransformer</label><div class=\"sk-toggleable__content\"><pre>FunctionTransformer(feature_names_out=&#x27;one-to-one&#x27;,\n",
       "                    func=&lt;function &lt;lambda&gt; at 0x000001728E68F490&gt;)</pre></div></div></div></div></div></div><div class=\"sk-parallel-item\"><div class=\"sk-item\"><div class=\"sk-label-container\"><div class=\"sk-label sk-toggleable\"><input class=\"sk-toggleable__control sk-hidden--visually\" id=\"sk-estimator-id-42\" type=\"checkbox\" ><label for=\"sk-estimator-id-42\" class=\"sk-toggleable__label sk-toggleable__label-arrow\">geo3_le</label><div class=\"sk-toggleable__content\"><pre>[&#x27;geo_level_3_id&#x27;]</pre></div></div></div><div class=\"sk-serial\"><div class=\"sk-item\"><div class=\"sk-estimator sk-toggleable\"><input class=\"sk-toggleable__control sk-hidden--visually\" id=\"sk-estimator-id-43\" type=\"checkbox\" ><label for=\"sk-estimator-id-43\" class=\"sk-toggleable__label sk-toggleable__label-arrow\">FunctionTransformer</label><div class=\"sk-toggleable__content\"><pre>FunctionTransformer(feature_names_out=&#x27;one-to-one&#x27;,\n",
       "                    func=&lt;function &lt;lambda&gt; at 0x000001728FF36F80&gt;)</pre></div></div></div></div></div></div></div></div><div class=\"sk-item\"><div class=\"sk-estimator sk-toggleable\"><input class=\"sk-toggleable__control sk-hidden--visually\" id=\"sk-estimator-id-44\" type=\"checkbox\" ><label for=\"sk-estimator-id-44\" class=\"sk-toggleable__label sk-toggleable__label-arrow\">GeoDimensionReduction</label><div class=\"sk-toggleable__content\"><pre>GeoDimensionReduction(path=WindowsPath(&#x27;d:/ml_competitions/gorkha_earthquake/models/project-dr-16.pt&#x27;))</pre></div></div></div></div></div></div></div></div><div class=\"sk-parallel-item\"><div class=\"sk-item\"><div class=\"sk-label-container\"><div class=\"sk-label sk-toggleable\"><input class=\"sk-toggleable__control sk-hidden--visually\" id=\"sk-estimator-id-45\" type=\"checkbox\" ><label for=\"sk-estimator-id-45\" class=\"sk-toggleable__label sk-toggleable__label-arrow\">geo_unk</label><div class=\"sk-toggleable__content\"><pre>[&#x27;geo_level_1_id&#x27;, &#x27;geo_level_2_id&#x27;, &#x27;geo_level_3_id&#x27;]</pre></div></div></div><div class=\"sk-serial\"><div class=\"sk-item\"><div class=\"sk-estimator sk-toggleable\"><input class=\"sk-toggleable__control sk-hidden--visually\" id=\"sk-estimator-id-46\" type=\"checkbox\" ><label for=\"sk-estimator-id-46\" class=\"sk-toggleable__label sk-toggleable__label-arrow\">ThresholdReplacer</label><div class=\"sk-toggleable__content\"><pre>ThresholdReplacer(threshold=3)</pre></div></div></div></div></div></div><div class=\"sk-parallel-item\"><div class=\"sk-item\"><div class=\"sk-label-container\"><div class=\"sk-label sk-toggleable\"><input class=\"sk-toggleable__control sk-hidden--visually\" id=\"sk-estimator-id-47\" type=\"checkbox\" ><label for=\"sk-estimator-id-47\" class=\"sk-toggleable__label sk-toggleable__label-arrow\">remainder</label><div class=\"sk-toggleable__content\"><pre></pre></div></div></div><div class=\"sk-serial\"><div class=\"sk-item\"><div class=\"sk-estimator sk-toggleable\"><input class=\"sk-toggleable__control sk-hidden--visually\" id=\"sk-estimator-id-48\" type=\"checkbox\" ><label for=\"sk-estimator-id-48\" class=\"sk-toggleable__label sk-toggleable__label-arrow\">passthrough</label><div class=\"sk-toggleable__content\"><pre>passthrough</pre></div></div></div></div></div></div></div></div></div></div>"
      ],
      "text/plain": [
       "ColumnTransformer(remainder='passthrough',\n",
       "                  transformers=[('categorical',\n",
       "                                 OneHotEncoder(drop='first',\n",
       "                                               handle_unknown='ignore',\n",
       "                                               min_frequency=1, sparse=False),\n",
       "                                 ['foundation_type', 'ground_floor_type',\n",
       "                                  'land_surface_condition',\n",
       "                                  'legal_ownership_status', 'other_floor_type',\n",
       "                                  'plan_configuration', 'position', 'roof_type',\n",
       "                                  'geo_level_1_id']),\n",
       "                                ('geo_dim_reduction',\n",
       "                                 Pipeli...\n",
       "                                                                                                       func=<function <lambda> at 0x000001728FF36F80>),\n",
       "                                                                                   ['geo_level_3_id'])],\n",
       "                                                                    verbose_feature_names_out=False)),\n",
       "                                                 ('embedder',\n",
       "                                                  GeoDimensionReduction(path=WindowsPath('d:/ml_competitions/gorkha_earthquake/models/project-dr-16.pt')))]),\n",
       "                                 ['geo_level_1_id', 'geo_level_2_id',\n",
       "                                  'geo_level_3_id']),\n",
       "                                ('geo_unk', ThresholdReplacer(threshold=3),\n",
       "                                 ['geo_level_1_id', 'geo_level_2_id',\n",
       "                                  'geo_level_3_id'])])"
      ]
     },
     "execution_count": 15,
     "metadata": {},
     "output_type": "execute_result"
    }
   ],
   "source": [
    "# Load All Label Encoders\n",
    "with open(MODEL_DIR / 'geo-lv-1-label-encoder.pickle', 'rb') as f:\n",
    "    le1 = pickle.load(f)\n",
    "with open(MODEL_DIR / 'geo-lv-2-label-encoder.pickle', 'rb') as f:\n",
    "    le2 = pickle.load(f)\n",
    "with open(MODEL_DIR / 'geo-lv-3-label-encoder.pickle', 'rb') as f:\n",
    "    le3 = pickle.load(f)\n",
    "\n",
    "# Prepare Transformers\n",
    "geo_lv1_le = FunctionTransformer(\n",
    "    func=lambda x: np.array(le1.transform(x.values.ravel())).reshape(-1, 1),\n",
    "    feature_names_out='one-to-one'\n",
    ")\n",
    "\n",
    "geo_lv2_le = FunctionTransformer(\n",
    "    func=lambda x: np.array(le2.transform(x.values.ravel())).reshape(-1, 1), \n",
    "    feature_names_out='one-to-one'\n",
    ")\n",
    "\n",
    "geo_lv3_le = FunctionTransformer(\n",
    "    func=lambda x: np.array(le3.transform(x.values.ravel())).reshape(-1, 1), \n",
    "    feature_names_out='one-to-one'\n",
    ")\n",
    "\n",
    "# Dim Reducer\n",
    "geo_dim_reduction_preprocessor = ColumnTransformer(\n",
    "    transformers=[\n",
    "        ('geo1_le', geo_lv1_le, ['geo_level_1_id']),\n",
    "        ('geo2_le', geo_lv2_le, ['geo_level_2_id']),\n",
    "        ('geo3_le', geo_lv3_le, ['geo_level_3_id']),\n",
    "    ], \n",
    "    remainder='drop', \n",
    "    verbose_feature_names_out=False\n",
    ").set_output(transform='pandas')\n",
    "\n",
    "geo_dim_reduction_pipe = Pipeline([\n",
    "    ('label_encoder', geo_dim_reduction_preprocessor),\n",
    "    ('embedder', GeoDimensionReduction0(path=MODEL_DIR / 'project-dr-16.pt', latent_dim=16)),\n",
    "])\n",
    "\n",
    "\n",
    "preprocessor = ColumnTransformer(\n",
    "    transformers=[\n",
    "        ('categorical', OneHotEncoder(drop='first', handle_unknown='ignore', min_frequency=1, sparse=False), categorical_columns + ['geo_level_1_id']),\n",
    "        ('geo_dim_reduction', geo_dim_reduction_pipe, geo_level_columns),\n",
    "        ('geo_unk',  ThresholdReplacer(3, -1), geo_level_columns),\n",
    "    ],\n",
    "    remainder='passthrough'\n",
    ")\n",
    "preprocessor.set_output(transform='pandas')"
   ]
  },
  {
   "cell_type": "code",
   "execution_count": 16,
   "metadata": {},
   "outputs": [
    {
     "name": "stderr",
     "output_type": "stream",
     "text": [
      "d:\\USC\\College\\Courses\\CSCI-544 Applied Natural Language Processing\\homework\\3\\src\\env\\lib\\site-packages\\sklearn\\preprocessing\\_encoders.py:828: FutureWarning: `sparse` was renamed to `sparse_output` in version 1.2 and will be removed in 1.4. `sparse_output` is ignored unless you leave `sparse` to its default value.\n",
      "  warnings.warn(\n"
     ]
    }
   ],
   "source": [
    "X_train = preprocessor.fit_transform(features_df, labels_df)\n",
    "y_train = labels_df.to_numpy().squeeze()\n",
    "X_test = preprocessor.transform(test_features_df)"
   ]
  },
  {
   "attachments": {},
   "cell_type": "markdown",
   "metadata": {},
   "source": [
    "## Submission"
   ]
  },
  {
   "cell_type": "code",
   "execution_count": 17,
   "metadata": {},
   "outputs": [],
   "source": [
    "from os import PathLike\n",
    "import pandas as pd\n",
    "\n",
    "\n",
    "def create_submission(predictions, submission_formats_path: PathLike):\n",
    "    submission_format = pd.read_csv(submission_formats_path, index_col=0)\n",
    "    submission = pd.DataFrame(data=predictions, columns=submission_format.columns, index=submission_format.index)\n",
    "    submission['damage_grade'] = submission['damage_grade'].astype(int)\n",
    "    return submission"
   ]
  },
  {
   "cell_type": "code",
   "execution_count": 19,
   "metadata": {},
   "outputs": [],
   "source": [
    "hyperparams = {\n",
    "    'booster': 'gbtree', 'colsample_bytree': 0.7000000000000001, \n",
    "    'eta': 0.025, 'eval_metric': 'auc', 'gamma': 0.9, 'max_depth': 11, \n",
    "    'min_child_weight': 6.0, 'n_estimators': 969, 'nthread': 6, \n",
    "    'seed': 42, 'subsample': 0.8, 'tree_method': 'gpu_hist'\n",
    "}\n",
    "\n",
    "xgb = XGBClassifier(**hyperparams, objective='multi:softmax')\n",
    "\n",
    "xgb.fit(\n",
    "    X=X_train, \n",
    "    y=y_train,  \n",
    "    verbose=0\n",
    ")\n",
    "\n",
    "submission = create_submission(xgb.predict(X_test) + 1, submission_formats_path=SUBMISSION_FORMAT_PATH)\n",
    "submission.to_csv(SUBMISSION_DIR / \"pp11-1-xgb.csv\")"
   ]
  },
  {
   "cell_type": "code",
   "execution_count": null,
   "metadata": {},
   "outputs": [],
   "source": []
  }
 ],
 "metadata": {
  "kernelspec": {
   "display_name": "env",
   "language": "python",
   "name": "python3"
  },
  "language_info": {
   "codemirror_mode": {
    "name": "ipython",
    "version": 3
   },
   "file_extension": ".py",
   "mimetype": "text/x-python",
   "name": "python",
   "nbconvert_exporter": "python",
   "pygments_lexer": "ipython3",
   "version": "3.10.4"
  },
  "orig_nbformat": 4
 },
 "nbformat": 4,
 "nbformat_minor": 2
}
