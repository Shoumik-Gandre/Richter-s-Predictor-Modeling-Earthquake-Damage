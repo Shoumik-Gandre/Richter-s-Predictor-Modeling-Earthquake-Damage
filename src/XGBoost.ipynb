{
  "cells": [
    {
      "attachments": {},
      "cell_type": "markdown",
      "metadata": {
        "id": "xLKNXG2xJzZU"
      },
      "source": [
        "# XGB for predictions\n",
        "This Notebook attempts to create the best possible xgb classifier for the earthquake dataset.  "
      ]
    },
    {
      "attachments": {},
      "cell_type": "markdown",
      "metadata": {
        "id": "T2kJjO8mJzZd"
      },
      "source": [
        "## Imports"
      ]
    },
    {
      "cell_type": "code",
      "execution_count": 1,
      "metadata": {
        "colab": {
          "base_uri": "https://localhost:8080/"
        },
        "id": "0soz2KgrLL6h",
        "outputId": "c5a06fc2-aa91-4e04-fd58-429ad7896d62"
      },
      "outputs": [],
      "source": [
        "## Uncomment this incase you want to run it on google colab\n",
        "# from google.colab import drive\n",
        "# drive.mount('/content/drive')"
      ]
    },
    {
      "cell_type": "code",
      "execution_count": 2,
      "metadata": {
        "colab": {
          "base_uri": "https://localhost:8080/"
        },
        "id": "_LbuivvwKXwC",
        "outputId": "8b31267c-f780-4aae-c1ca-00a14f40bdae"
      },
      "outputs": [
        {
          "name": "stdout",
          "output_type": "stream",
          "text": [
            "Note: you may need to restart the kernel to use updated packages.\n"
          ]
        },
        {
          "name": "stderr",
          "output_type": "stream",
          "text": [
            "The system cannot find the path specified.\n",
            "\n",
            "[notice] A new release of pip is available: 23.0.1 -> 23.1.2\n",
            "[notice] To update, run: python.exe -m pip install --upgrade pip\n"
          ]
        }
      ],
      "source": [
        "%pip install -q optuna category-encoders"
      ]
    },
    {
      "cell_type": "code",
      "execution_count": 3,
      "metadata": {
        "id": "Be9lTLprJzZf"
      },
      "outputs": [],
      "source": [
        "import numpy as np\n",
        "import pandas as pd\n",
        "from xgboost import XGBClassifier\n",
        "from sklearn.model_selection import StratifiedKFold, cross_val_score, train_test_split\n",
        "from sklearn.metrics import f1_score\n",
        "\n",
        "# Hyperparameter Optimization\n",
        "import optuna\n",
        "\n",
        "# Preprocessing\n",
        "from sklearn.compose import ColumnTransformer\n",
        "from sklearn.pipeline import make_pipeline, Pipeline\n",
        "from sklearn.impute import SimpleImputer\n",
        "from sklearn.preprocessing import OneHotEncoder, StandardScaler, RobustScaler, FunctionTransformer\n",
        "from category_encoders import LeaveOneOutEncoder, TargetEncoder, CatBoostEncoder\n",
        "from sklearn.base import BaseEstimator, TransformerMixin, ClassNamePrefixFeaturesOutMixin\n",
        "\n",
        "from pathlib import Path\n",
        "import pickle\n",
        "from os import PathLike\n",
        "import torch"
      ]
    },
    {
      "attachments": {},
      "cell_type": "markdown",
      "metadata": {
        "id": "wEvLXrmjJzZk"
      },
      "source": [
        "## Constants"
      ]
    },
    {
      "cell_type": "code",
      "execution_count": 10,
      "metadata": {
        "id": "L8ox5tAfJzZl"
      },
      "outputs": [],
      "source": [
        "# Replace these with your file paths\n",
        "\n",
        "BASE_DIR = Path('d:\\\\', 'ml_competitions', 'gorkha_earthquake')\n",
        "DATA_DIR = BASE_DIR / 'data' / 'raw'\n",
        "MODEL_DIR = BASE_DIR / 'models'\n",
        "SUBMISSION_DIR = BASE_DIR / 'submissions'\n",
        "\n",
        "TRAINING_FEATURES_PATH = DATA_DIR / \"train_values.csv\"\n",
        "TRAINING_LABELS_PATH = DATA_DIR / \"train_labels.csv\"\n",
        "TEST_FEATURES_PATH = DATA_DIR / \"test_values.csv\"\n",
        "SUBMISSION_FORMAT_PATH = DATA_DIR / \"submission_format.csv\""
      ]
    },
    {
      "attachments": {},
      "cell_type": "markdown",
      "metadata": {
        "id": "Z9yOqLubJzZm"
      },
      "source": [
        "## Data Loading"
      ]
    },
    {
      "cell_type": "code",
      "execution_count": 11,
      "metadata": {
        "id": "jcKjSNt4JzZn"
      },
      "outputs": [],
      "source": [
        "features_df         = pd.read_csv(TRAINING_FEATURES_PATH,   index_col=0)\n",
        "labels_df           = pd.read_csv(TRAINING_LABELS_PATH,     index_col=0) - 1\n",
        "test_features_df    = pd.read_csv(TEST_FEATURES_PATH,       index_col=0)"
      ]
    },
    {
      "attachments": {},
      "cell_type": "markdown",
      "metadata": {
        "id": "SmviOJriJzZo"
      },
      "source": [
        "## Data Preprocessing"
      ]
    },
    {
      "cell_type": "code",
      "execution_count": 12,
      "metadata": {
        "id": "wMvEflDPJzZp"
      },
      "outputs": [],
      "source": [
        "# Setup\n",
        "\n",
        "geo_level_columns = ['geo_level_1_id', 'geo_level_2_id', 'geo_level_3_id']\n",
        "numerical_columns = ['count_floors_pre_eq', 'age', 'area_percentage', 'height_percentage', 'count_families']\n",
        "categorical_columns = ['foundation_type', 'ground_floor_type', 'land_surface_condition', \n",
        "                       'legal_ownership_status', 'other_floor_type',\n",
        "                       'plan_configuration', 'position', 'roof_type']"
      ]
    },
    {
      "cell_type": "code",
      "execution_count": 13,
      "metadata": {
        "id": "ESLPkpbzJzZr"
      },
      "outputs": [],
      "source": [
        "\n",
        "class DREncoder(torch.nn.Module):\n",
        "\n",
        "    def __init__(self, \n",
        "                 latent_dim: int=16, \n",
        "                 geo_lv1_size: int=31, \n",
        "                 geo_lv2_size: int=1428,\n",
        "                 geo_lv3_size: int=12568) -> None:\n",
        "        super().__init__()\n",
        "        self.geo_lv1_embedder = torch.nn.Embedding(geo_lv1_size, 16)\n",
        "        self.geo_lv2_embedder = torch.nn.Embedding(geo_lv2_size, 128)\n",
        "        self.geo_lv3_embedder = torch.nn.Embedding(geo_lv3_size, 128) \n",
        "        self.compressor = torch.nn.Linear(16+128+128, latent_dim)\n",
        "\n",
        "    def forward(self, x):\n",
        "        x_1 = self.geo_lv1_embedder(x[:, 0])\n",
        "        x_2 = self.geo_lv2_embedder(x[:, 1])\n",
        "        x_3 = self.geo_lv3_embedder(x[:, 2])\n",
        "        x = torch.concat((x_1, x_2, x_3), dim=1)\n",
        "        x = torch.nn.functional.relu(x)\n",
        "        return self.compressor(x)\n",
        "\n",
        "\n",
        "class GeoDimensionReduction(BaseEstimator, TransformerMixin, ClassNamePrefixFeaturesOutMixin):\n",
        "\n",
        "    def __init__(\n",
        "            self, \n",
        "            path: PathLike,\n",
        "            latent_dim: int=16, \n",
        "            geo_lv1_size: int=31,\n",
        "            geo_lv2_size: int=1418,\n",
        "            geo_lv3_size: int=11861) -> None:\n",
        "        super().__init__()\n",
        "        self.path = path\n",
        "        self.model = DREncoder(\n",
        "            latent_dim, \n",
        "            geo_lv1_size,\n",
        "            geo_lv2_size,\n",
        "            geo_lv3_size\n",
        "        )\n",
        "        self.latent_dim = latent_dim\n",
        "        self.geo_lv1_size = geo_lv1_size\n",
        "        self.geo_lv2_size = geo_lv2_size\n",
        "        self.geo_lv3_size = geo_lv3_size\n",
        "        self.model.load_state_dict(torch.load(path))\n",
        "\n",
        "    def fit(self, X: pd.DataFrame, y=None, *args, **kwargs):\n",
        "        return self\n",
        "\n",
        "    def transform(self, X: pd.DataFrame, y=None, *args, **kwargs):\n",
        "        # Convert pd to numpy\n",
        "        if isinstance(X, pd.DataFrame):\n",
        "            X = X.values # type: ignore\n",
        "        # Apply encoder\n",
        "        self.model.eval()\n",
        "        X = torch.from_numpy(X).type(torch.long) # type: ignore\n",
        "        return self.model(X).detach().numpy()\n",
        "    \n",
        "class RollUpGeoLv3Encoder(torch.nn.Module):\n",
        "\n",
        "    def __init__(self, \n",
        "                 latent_dim: int=16, \n",
        "                 geo_lv3_size: int=11861) -> None:\n",
        "        super().__init__()\n",
        "        self.geo_lv3_embedder = torch.nn.Embedding(geo_lv3_size, 128)\n",
        "        self.compressor = torch.nn.Linear(128, latent_dim)\n",
        "\n",
        "    def forward(self, x):\n",
        "        x = self.geo_lv3_embedder(x).squeeze(1)\n",
        "        x = torch.nn.functional.relu(x)\n",
        "        return self.compressor(x)\n",
        "\n",
        "\n",
        "class GeoLv3Rollup(BaseEstimator, TransformerMixin, ClassNamePrefixFeaturesOutMixin):\n",
        "\n",
        "    def __init__(\n",
        "            self, \n",
        "            path: PathLike,\n",
        "            latent_dim: int=16, \n",
        "            geo_lv3_size: int=11861) -> None:\n",
        "        super().__init__()\n",
        "        self.path = path\n",
        "        self.model = RollUpGeoLv3Encoder(\n",
        "            latent_dim, \n",
        "            geo_lv3_size\n",
        "        )\n",
        "        self.latent_dim = latent_dim\n",
        "        self.geo_lv3_size = geo_lv3_size\n",
        "        self.model.load_state_dict(torch.load(path))\n",
        "\n",
        "    def fit(self, X: pd.DataFrame, y=None, *args, **kwargs):\n",
        "        return self\n",
        "\n",
        "    def transform(self, X: pd.DataFrame, y=None, *args, **kwargs):\n",
        "        # Convert pd to numpy\n",
        "        if isinstance(X, pd.DataFrame):\n",
        "            X = X.values # type: ignore\n",
        "        # Apply encoder\n",
        "        self.model.eval()\n",
        "        X = torch.from_numpy(X).type(torch.long) # type: ignore\n",
        "        return self.model(X).detach().numpy()"
      ]
    },
    {
      "cell_type": "code",
      "execution_count": 14,
      "metadata": {
        "colab": {
          "base_uri": "https://localhost:8080/",
          "height": 469
        },
        "id": "5fYfmRjpJzZv",
        "outputId": "4a75d2be-6aeb-4d79-92a9-f3ecb1132cab"
      },
      "outputs": [],
      "source": [
        "# Load All Label Encoders\n",
        "with open(MODEL_DIR / 'geo-lv-1-label-encoder.pickle', 'rb') as f:\n",
        "    le1 = pickle.load(f)\n",
        "with open(MODEL_DIR / 'geo-lv-2-label-encoder.pickle', 'rb') as f:\n",
        "    le2 = pickle.load(f)\n",
        "with open(MODEL_DIR / 'geo-lv-3-label-encoder.pickle', 'rb') as f:\n",
        "    le3 = pickle.load(f)\n",
        "\n",
        "# Prepare Transformers\n",
        "geo_lv1_le = FunctionTransformer(\n",
        "    func=lambda x: np.array(le1.transform(x.values.ravel())).reshape(-1, 1),\n",
        "    feature_names_out='one-to-one'\n",
        ")\n",
        "\n",
        "geo_lv2_le = FunctionTransformer(\n",
        "    func=lambda x: np.array(le2.transform(x.values.ravel())).reshape(-1, 1), \n",
        "    feature_names_out='one-to-one'\n",
        ")\n",
        "\n",
        "geo_lv3_le = FunctionTransformer(\n",
        "    func=lambda x: np.array(le3.transform(x.values.ravel())).reshape(-1, 1), \n",
        "    feature_names_out='one-to-one'\n",
        ")\n",
        "\n",
        "# Dim Reducer\n",
        "geo_dim_reduction_preprocessor = ColumnTransformer(\n",
        "    transformers=[\n",
        "        ('geo1_le', geo_lv1_le, ['geo_level_1_id']),\n",
        "        ('geo2_le', geo_lv2_le, ['geo_level_2_id']),\n",
        "        ('geo3_le', geo_lv3_le, ['geo_level_3_id']),\n",
        "    ], \n",
        "    remainder='drop', \n",
        "    verbose_feature_names_out=False\n",
        ").set_output(transform='pandas')\n",
        "\n",
        "geo_dim_reduction_pipe = Pipeline([\n",
        "    ('label_encoder', geo_dim_reduction_preprocessor),\n",
        "    ('embedder', GeoDimensionReduction(path=MODEL_DIR / 'dim-reduction-32', latent_dim=32)),\n",
        "])\n",
        "\n",
        "# Rollup\n",
        "geo3_rollup_preprocessor = ColumnTransformer(\n",
        "    transformers=[\n",
        "        ('geo3_le', geo_lv3_le, ['geo_level_3_id']),\n",
        "    ], \n",
        "    remainder='drop', \n",
        "    verbose_feature_names_out=False,\n",
        ").set_output(transform='pandas')\n",
        "\n",
        "geo_rollup_pipe = Pipeline([\n",
        "    ('label_encoder', geo3_rollup_preprocessor),\n",
        "    ('embedder', GeoLv3Rollup(path=MODEL_DIR / 'geo3-rollup-16')),\n",
        "])\n",
        "\n",
        "preprocessor_xgboost = ColumnTransformer(\n",
        "    transformers=[\n",
        "        # ('bool', FunctionTransformer(lambda x: np.log(1+x), feature_names_out='one-to-one'), numerical_columns),\n",
        "        ('cat', OneHotEncoder(drop='first', sparse_output=False), categorical_columns),\n",
        "        ('geo_raw', FunctionTransformer(lambda x: x, feature_names_out='one-to-one'), geo_level_columns),\n",
        "        ('geo_dim_reduction', geo_dim_reduction_pipe, geo_level_columns),\n",
        "        ('geo_rollup', geo_rollup_pipe, geo_level_columns),\n",
        "        ('geos', CatBoostEncoder(cols=geo_level_columns), geo_level_columns),\n",
        "    ],\n",
        "    remainder='passthrough'\n",
        ")\n",
        "# preprocessor_lgbm.set_output(transform='pandas')"
      ]
    },
    {
      "attachments": {},
      "cell_type": "markdown",
      "metadata": {
        "id": "1A7nAx4DJzZz"
      },
      "source": [
        "## Evaluate Model"
      ]
    },
    {
      "cell_type": "code",
      "execution_count": null,
      "metadata": {
        "colab": {
          "base_uri": "https://localhost:8080/"
        },
        "id": "29k3QqymJzZ0",
        "outputId": "c324a5aa-a1f5-4bf8-d08e-6b82859059b5"
      },
      "outputs": [
        {
          "name": "stdout",
          "output_type": "stream",
          "text": [
            "[Parallel(n_jobs=1)]: Using backend SequentialBackend with 1 concurrent workers.\n",
            "[CV] START .....................................................................\n",
            "[CV] END ................................ score: (test=0.747) total time=   7.2s\n",
            "[Parallel(n_jobs=1)]: Done   1 out of   1 | elapsed:    7.3s remaining:    0.0s\n",
            "[CV] START .....................................................................\n",
            "[CV] END ................................ score: (test=0.743) total time=   6.7s\n",
            "[Parallel(n_jobs=1)]: Done   2 out of   2 | elapsed:   14.1s remaining:    0.0s\n",
            "[CV] START .....................................................................\n",
            "[CV] END ................................ score: (test=0.750) total time=   7.0s\n",
            "[Parallel(n_jobs=1)]: Done   3 out of   3 | elapsed:   21.2s remaining:    0.0s\n",
            "[CV] START .....................................................................\n",
            "[CV] END ................................ score: (test=0.747) total time=   6.7s\n",
            "[Parallel(n_jobs=1)]: Done   4 out of   4 | elapsed:   28.0s remaining:    0.0s\n",
            "[CV] START .....................................................................\n",
            "[CV] END ................................ score: (test=0.749) total time=   7.0s\n",
            "[Parallel(n_jobs=1)]: Done   5 out of   5 | elapsed:   35.0s remaining:    0.0s\n",
            "[Parallel(n_jobs=1)]: Done   5 out of   5 | elapsed:   35.0s finished\n",
            "0.74721\n"
          ]
        }
      ],
      "source": [
        "hyperparams = {\n",
        "    \"objective\": \"multi:softmax\",\n",
        "    \"eval_metric\": \"auc\",\n",
        "    \"tree_method\": \"gpu_hist\",\n",
        "}\n",
        "\n",
        "xgb_pipeline = Pipeline([\n",
        "    ('preprocessor', preprocessor_xgboost),\n",
        "    ('classifier', XGBClassifier(**hyperparams)),\n",
        "])\n",
        "\n",
        "results = cross_val_score(\n",
        "    xgb_pipeline, \n",
        "    features_df, \n",
        "    labels_df.to_numpy().squeeze(), \n",
        "    cv=StratifiedKFold(n_splits=5), \n",
        "    scoring='f1_micro',\n",
        "    verbose=100\n",
        ")\n",
        "\n",
        "print(f'{results.mean():.5f}')"
      ]
    },
    {
      "attachments": {},
      "cell_type": "markdown",
      "metadata": {
        "id": "rTsFy-GpJzZ3"
      },
      "source": [
        "## Hyperparameter Optimization"
      ]
    },
    {
      "attachments": {},
      "cell_type": "markdown",
      "metadata": {
        "id": "wguaD5BcJzZ4"
      },
      "source": [
        "### Objective Function"
      ]
    },
    {
      "cell_type": "code",
      "execution_count": null,
      "metadata": {
        "id": "ISeyY_l7JzZ5"
      },
      "outputs": [],
      "source": [
        "# FYI: Objective functions can take additional arguments\n",
        "# (https://optuna.readthedocs.io/en/stable/faq.html#objective-func-additional-args).\n",
        "def objective(\n",
        "        trial: optuna.Trial, \n",
        "        X_train: np.ndarray, \n",
        "        y_train: np.ndarray, \n",
        "        X_valid: np.ndarray, \n",
        "        y_valid: np.ndarray) -> float:\n",
        "\n",
        "    hyperparams = {\n",
        "        \"objective\": \"multi:softmax\",\n",
        "        \"eval_metric\": \"auc\",\n",
        "        \"tree_method\": \"gpu_hist\",\n",
        "        'nthread': 6,\n",
        "        'seed': 69,\n",
        "        \"n_estimators\": trial.suggest_int(\"n_estimators\", 100, 1500),\n",
        "        \"learning_rate\": trial.suggest_float(\"learning_rate\", 1e-8, 1.0, log=True),\n",
        "        \"max_depth\": trial.suggest_int(\"max_depth\", 10, 15),\n",
        "        \"gamma\": trial.suggest_float(\"gamma\", 0, 20),\n",
        "        \"min_child_weight\": trial.suggest_int(\"min_child_weight\", 2, 20),\n",
        "        \"reg_alpha\": trial.suggest_float(\"reg_alpha\", 1e-2, 0.1),\n",
        "        \"reg_lambda\": trial.suggest_float(\"reg_lambda\", 1e-2, 0.1),\n",
        "        \"subsample\": trial.suggest_float(\"subsample\", 0.5, 0.9),\n",
        "        \"colsample_bytree\": trial.suggest_float(\"colsample_bytree\", 0.5, 0.9),\n",
        "        \"colsample_bylevel\": trial.suggest_float(\"colsample_bylevel\", 0.5, 0.9),\n",
        "        \"colsample_bynode\": trial.suggest_float(\"colsample_bynode\", 0.5, 0.9),\n",
        "        \"grow_policy\": trial.suggest_categorical(\"grow_policy\", ['depthwise', 'lossguide']),\n",
        "        # \"booster\": trial.suggest_categorical(\"booster\", ['gbtree', 'gblinear', 'dart']),\n",
        "    }\n",
        "\n",
        "    # Add a callback for pruning.\n",
        "    pruning_callback = optuna.integration.XGBoostPruningCallback(trial, \"validation_0-auc\")\n",
        "    \n",
        "    xgb_clf = XGBClassifier(\n",
        "        **hyperparams, \n",
        "        callbacks=[pruning_callback], \n",
        "        early_stopping_rounds=50,\n",
        "    )\n",
        "\n",
        "    xgb_clf.fit(\n",
        "        X_train, \n",
        "        y_train,  \n",
        "        eval_set=[(X_valid, y_valid)],\n",
        "        verbose=False,\n",
        "    )\n",
        "    results = f1_score(y_valid, xgb_clf.predict(X_valid), average='micro')\n",
        "    return float(results)"
      ]
    },
    {
      "attachments": {},
      "cell_type": "markdown",
      "metadata": {
        "id": "s5R0t1FmJzZ6"
      },
      "source": [
        "### Study"
      ]
    },
    {
      "cell_type": "code",
      "execution_count": null,
      "metadata": {
        "colab": {
          "base_uri": "https://localhost:8080/"
        },
        "id": "H7b3oCztJzZ7",
        "outputId": "70cb4610-9b18-48a3-f62b-bd3572b4186a"
      },
      "outputs": [
        {
          "name": "stderr",
          "output_type": "stream",
          "text": [
            "\u001b[32m[I 2023-05-09 01:31:25,303]\u001b[0m A new study created in RDB with name: xgb-DR-32-RU-16-Target-study\u001b[0m\n",
            "\u001b[32m[I 2023-05-09 01:31:35,966]\u001b[0m Trial 0 finished with value: 0.7299964697395281 and parameters: {'n_estimators': 127, 'learning_rate': 0.00208683675346516, 'max_depth': 11, 'gamma': 16.626939567505225, 'min_child_weight': 4, 'reg_alpha': 0.09915239644768807, 'reg_lambda': 0.0567612348515774, 'subsample': 0.6480905054426477, 'colsample_bytree': 0.7119789021623592, 'colsample_bylevel': 0.678011871799658, 'colsample_bynode': 0.5651564055440244, 'grow_policy': 'lossguide'}. Best is trial 0 with value: 0.7299964697395281.\u001b[0m\n",
            "\u001b[32m[I 2023-05-09 01:31:56,421]\u001b[0m Trial 1 finished with value: 0.7313011312182468 and parameters: {'n_estimators': 472, 'learning_rate': 4.294604231789147e-08, 'max_depth': 15, 'gamma': 12.599595316817219, 'min_child_weight': 14, 'reg_alpha': 0.05552669174004466, 'reg_lambda': 0.03610338183325372, 'subsample': 0.8812246089748421, 'colsample_bytree': 0.7474548822154962, 'colsample_bylevel': 0.5267718672921488, 'colsample_bynode': 0.6205320635429068, 'grow_policy': 'lossguide'}. Best is trial 1 with value: 0.7313011312182468.\u001b[0m\n",
            "\u001b[32m[I 2023-05-09 01:32:13,914]\u001b[0m Trial 2 finished with value: 0.7290755322251385 and parameters: {'n_estimators': 497, 'learning_rate': 2.091599903650985e-07, 'max_depth': 12, 'gamma': 10.226840264386858, 'min_child_weight': 5, 'reg_alpha': 0.09910924062760551, 'reg_lambda': 0.09671307686818911, 'subsample': 0.5100412437766397, 'colsample_bytree': 0.5035930087128324, 'colsample_bylevel': 0.6740596500452665, 'colsample_bynode': 0.5881873052791663, 'grow_policy': 'depthwise'}. Best is trial 1 with value: 0.7313011312182468.\u001b[0m\n",
            "\u001b[32m[I 2023-05-09 01:32:27,333]\u001b[0m Trial 3 finished with value: 0.7348467406486471 and parameters: {'n_estimators': 1492, 'learning_rate': 0.31925653101194135, 'max_depth': 15, 'gamma': 14.192830632845684, 'min_child_weight': 13, 'reg_alpha': 0.020487443894128803, 'reg_lambda': 0.0882327866753905, 'subsample': 0.5986759062975567, 'colsample_bytree': 0.8738730118280027, 'colsample_bylevel': 0.8504241596728719, 'colsample_bynode': 0.821132983762176, 'grow_policy': 'lossguide'}. Best is trial 3 with value: 0.7348467406486471.\u001b[0m\n",
            "\u001b[32m[I 2023-05-09 01:32:57,219]\u001b[0m Trial 4 finished with value: 0.73311230832988 and parameters: {'n_estimators': 777, 'learning_rate': 0.0133584400260662, 'max_depth': 11, 'gamma': 18.691884829255326, 'min_child_weight': 7, 'reg_alpha': 0.03982493541907199, 'reg_lambda': 0.03154585450192426, 'subsample': 0.6396329529857311, 'colsample_bytree': 0.7982091022867515, 'colsample_bylevel': 0.6389559481597061, 'colsample_bynode': 0.7448584439945918, 'grow_policy': 'depthwise'}. Best is trial 3 with value: 0.7348467406486471.\u001b[0m\n",
            "\u001b[32m[I 2023-05-09 01:33:29,357]\u001b[0m Trial 5 finished with value: 0.7341713864714279 and parameters: {'n_estimators': 737, 'learning_rate': 8.646422573854342e-06, 'max_depth': 13, 'gamma': 6.035449909458701, 'min_child_weight': 8, 'reg_alpha': 0.04769521258835344, 'reg_lambda': 0.059100921378962425, 'subsample': 0.5976388464952991, 'colsample_bytree': 0.5055423783557289, 'colsample_bylevel': 0.8146582701812957, 'colsample_bynode': 0.580627318967763, 'grow_policy': 'lossguide'}. Best is trial 3 with value: 0.7348467406486471.\u001b[0m\n",
            "\u001b[32m[I 2023-05-09 01:33:39,217]\u001b[0m Trial 6 finished with value: 0.7324369541526609 and parameters: {'n_estimators': 689, 'learning_rate': 2.667471880650794e-06, 'max_depth': 10, 'gamma': 12.111088676452752, 'min_child_weight': 19, 'reg_alpha': 0.011156864836482757, 'reg_lambda': 0.024957759582993982, 'subsample': 0.651534744286744, 'colsample_bytree': 0.8294208602954385, 'colsample_bylevel': 0.549405135471325, 'colsample_bynode': 0.6867344816305062, 'grow_policy': 'lossguide'}. Best is trial 3 with value: 0.7348467406486471.\u001b[0m\n",
            "\u001b[32m[I 2023-05-09 01:33:43,907]\u001b[0m Trial 7 pruned. Trial was pruned at iteration 10.\u001b[0m\n",
            "\u001b[32m[I 2023-05-09 01:33:47,072]\u001b[0m Trial 8 pruned. Trial was pruned at iteration 10.\u001b[0m\n",
            "\u001b[32m[I 2023-05-09 01:34:24,342]\u001b[0m Trial 9 finished with value: 0.7411858605393625 and parameters: {'n_estimators': 1026, 'learning_rate': 0.03785184838906219, 'max_depth': 13, 'gamma': 7.7224867384584, 'min_child_weight': 17, 'reg_alpha': 0.07150918797324667, 'reg_lambda': 0.04391717973089507, 'subsample': 0.8272268945993204, 'colsample_bytree': 0.7809947852070025, 'colsample_bylevel': 0.6020329169045497, 'colsample_bynode': 0.8037894345721066, 'grow_policy': 'lossguide'}. Best is trial 9 with value: 0.7411858605393625.\u001b[0m\n",
            "\u001b[32m[I 2023-05-09 01:43:27,035]\u001b[0m Trial 10 finished with value: 0.7407867876164602 and parameters: {'n_estimators': 1159, 'learning_rate': 0.00020355933491927276, 'max_depth': 14, 'gamma': 1.165455733819341, 'min_child_weight': 19, 'reg_alpha': 0.0697034265980823, 'reg_lambda': 0.012686113116460292, 'subsample': 0.7964254175767276, 'colsample_bytree': 0.6609361846547526, 'colsample_bylevel': 0.7629184334801522, 'colsample_bynode': 0.5093668497127906, 'grow_policy': 'lossguide'}. Best is trial 9 with value: 0.7411858605393625.\u001b[0m\n",
            "\u001b[32m[I 2023-05-09 01:49:51,839]\u001b[0m Trial 11 pruned. Trial was pruned at iteration 1026.\u001b[0m\n",
            "\u001b[32m[I 2023-05-09 01:53:33,883]\u001b[0m Trial 12 finished with value: 0.7405565532378628 and parameters: {'n_estimators': 1388, 'learning_rate': 9.666202692164836e-05, 'max_depth': 14, 'gamma': 0.9906329956467348, 'min_child_weight': 17, 'reg_alpha': 0.06885239626445358, 'reg_lambda': 0.010110148951846205, 'subsample': 0.7712510607397743, 'colsample_bytree': 0.6578616709082543, 'colsample_bylevel': 0.6192194305802199, 'colsample_bynode': 0.7744828467412872, 'grow_policy': 'lossguide'}. Best is trial 9 with value: 0.7411858605393625.\u001b[0m\n",
            "\u001b[32m[I 2023-05-09 01:53:42,994]\u001b[0m Trial 13 finished with value: 0.7400500376049485 and parameters: {'n_estimators': 986, 'learning_rate': 0.7666765528430285, 'max_depth': 13, 'gamma': 5.882832007040395, 'min_child_weight': 16, 'reg_alpha': 0.06482020520794637, 'reg_lambda': 0.041792089496368506, 'subsample': 0.7869261454853512, 'colsample_bytree': 0.8986556218397587, 'colsample_bylevel': 0.7579421907786578, 'colsample_bynode': 0.6812234716705644, 'grow_policy': 'lossguide'}. Best is trial 9 with value: 0.7411858605393625.\u001b[0m\n",
            "\u001b[32m[I 2023-05-09 01:53:57,555]\u001b[0m Trial 14 pruned. Trial was pruned at iteration 164.\u001b[0m\n",
            "\u001b[32m[I 2023-05-09 01:57:06,357]\u001b[0m Trial 15 finished with value: 0.7413240011665209 and parameters: {'n_estimators': 935, 'learning_rate': 8.308870130126243e-05, 'max_depth': 13, 'gamma': 0.03435547522177251, 'min_child_weight': 11, 'reg_alpha': 0.058738968820822926, 'reg_lambda': 0.04418813164097383, 'subsample': 0.8571393162313703, 'colsample_bytree': 0.6810510931745288, 'colsample_bylevel': 0.5981146454569803, 'colsample_bynode': 0.7268497352968948, 'grow_policy': 'lossguide'}. Best is trial 15 with value: 0.7413240011665209.\u001b[0m\n",
            "\u001b[32m[I 2023-05-09 01:57:57,924]\u001b[0m Trial 16 pruned. Trial was pruned at iteration 159.\u001b[0m\n",
            "\u001b[32m[I 2023-05-09 01:58:12,954]\u001b[0m Trial 17 pruned. Trial was pruned at iteration 90.\u001b[0m\n",
            "\u001b[32m[I 2023-05-09 01:58:42,500]\u001b[0m Trial 18 finished with value: 0.7484459179444675 and parameters: {'n_estimators': 899, 'learning_rate': 0.04872030159712297, 'max_depth': 13, 'gamma': 3.096140466649903, 'min_child_weight': 11, 'reg_alpha': 0.057217009649248245, 'reg_lambda': 0.06921243134324441, 'subsample': 0.8418933544133251, 'colsample_bytree': 0.7499369638883131, 'colsample_bylevel': 0.5948677779959494, 'colsample_bynode': 0.7118537075287896, 'grow_policy': 'depthwise'}. Best is trial 18 with value: 0.7484459179444675.\u001b[0m\n",
            "\u001b[32m[I 2023-05-09 01:59:35,048]\u001b[0m Trial 19 pruned. Trial was pruned at iteration 217.\u001b[0m\n",
            "\u001b[32m[I 2023-05-09 01:59:51,549]\u001b[0m Trial 20 finished with value: 0.7475863762643704 and parameters: {'n_estimators': 288, 'learning_rate': 0.08519208107260143, 'max_depth': 11, 'gamma': 3.2840816714382175, 'min_child_weight': 2, 'reg_alpha': 0.033191927122827744, 'reg_lambda': 0.06990977118332328, 'subsample': 0.8400803307146204, 'colsample_bytree': 0.6046397515078846, 'colsample_bylevel': 0.6444894629209601, 'colsample_bynode': 0.6580860696194554, 'grow_policy': 'depthwise'}. Best is trial 18 with value: 0.7484459179444675.\u001b[0m\n",
            "\u001b[32m[I 2023-05-09 02:00:09,334]\u001b[0m Trial 21 finished with value: 0.7471259075071757 and parameters: {'n_estimators': 292, 'learning_rate': 0.06443254673119161, 'max_depth': 11, 'gamma': 3.1330032104763976, 'min_child_weight': 3, 'reg_alpha': 0.03631032661298829, 'reg_lambda': 0.06888129012461519, 'subsample': 0.8435301479322306, 'colsample_bytree': 0.5723343965784227, 'colsample_bylevel': 0.6480794314264359, 'colsample_bynode': 0.6610882496305793, 'grow_policy': 'depthwise'}. Best is trial 18 with value: 0.7484459179444675.\u001b[0m\n",
            "\u001b[32m[I 2023-05-09 02:00:19,900]\u001b[0m Trial 22 finished with value: 0.7468189283357124 and parameters: {'n_estimators': 150, 'learning_rate': 0.1462556508646206, 'max_depth': 11, 'gamma': 3.313671662469423, 'min_child_weight': 2, 'reg_alpha': 0.03131777803768632, 'reg_lambda': 0.07071010425697755, 'subsample': 0.8305205190334157, 'colsample_bytree': 0.5946009504978199, 'colsample_bylevel': 0.6421409772602673, 'colsample_bynode': 0.6480462121790506, 'grow_policy': 'depthwise'}. Best is trial 18 with value: 0.7484459179444675.\u001b[0m\n",
            "\u001b[32m[I 2023-05-09 02:00:35,014]\u001b[0m Trial 23 finished with value: 0.7478166106429679 and parameters: {'n_estimators': 282, 'learning_rate': 0.09887603823820486, 'max_depth': 11, 'gamma': 3.0501552803842724, 'min_child_weight': 2, 'reg_alpha': 0.04400076524551115, 'reg_lambda': 0.0692916651142911, 'subsample': 0.8948401110134516, 'colsample_bytree': 0.5627515870761507, 'colsample_bylevel': 0.700586279787911, 'colsample_bynode': 0.6606227327461093, 'grow_policy': 'depthwise'}. Best is trial 18 with value: 0.7484459179444675.\u001b[0m\n",
            "\u001b[32m[I 2023-05-09 02:00:40,358]\u001b[0m Trial 24 pruned. Trial was pruned at iteration 93.\u001b[0m\n",
            "\u001b[32m[I 2023-05-09 02:00:56,625]\u001b[0m Trial 25 finished with value: 0.7478626575186873 and parameters: {'n_estimators': 292, 'learning_rate': 0.12623970321083933, 'max_depth': 11, 'gamma': 2.0878322354662693, 'min_child_weight': 2, 'reg_alpha': 0.048260884789763404, 'reg_lambda': 0.0640140943488726, 'subsample': 0.8952397946453318, 'colsample_bytree': 0.6321019872214836, 'colsample_bylevel': 0.703922946359254, 'colsample_bynode': 0.6663972745680861, 'grow_policy': 'depthwise'}. Best is trial 18 with value: 0.7484459179444675.\u001b[0m\n",
            "\u001b[32m[I 2023-05-09 02:02:23,646]\u001b[0m Trial 26 finished with value: 0.7488603398259428 and parameters: {'n_estimators': 595, 'learning_rate': 0.010139712896350012, 'max_depth': 12, 'gamma': 2.2029516294951925, 'min_child_weight': 4, 'reg_alpha': 0.04859979317030465, 'reg_lambda': 0.06403963092464017, 'subsample': 0.8999192628847538, 'colsample_bytree': 0.6359378170228069, 'colsample_bylevel': 0.7171572722033478, 'colsample_bynode': 0.7169037048739793, 'grow_policy': 'depthwise'}. Best is trial 26 with value: 0.7488603398259428.\u001b[0m\n",
            "\u001b[32m[I 2023-05-09 02:02:29,848]\u001b[0m Trial 27 pruned. Trial was pruned at iteration 16.\u001b[0m\n",
            "\u001b[32m[I 2023-05-09 02:04:29,872]\u001b[0m Trial 28 finished with value: 0.7468496262528588 and parameters: {'n_estimators': 423, 'learning_rate': 0.007908452291977165, 'max_depth': 12, 'gamma': 0.05787771877109904, 'min_child_weight': 4, 'reg_alpha': 0.048242984484006254, 'reg_lambda': 0.05235992893619728, 'subsample': 0.8707622017077203, 'colsample_bytree': 0.6323203263915498, 'colsample_bylevel': 0.6713520597833107, 'colsample_bynode': 0.7563387259228614, 'grow_policy': 'depthwise'}. Best is trial 26 with value: 0.7488603398259428.\u001b[0m\n",
            "\u001b[32m[I 2023-05-09 02:04:34,757]\u001b[0m Trial 29 pruned. Trial was pruned at iteration 10.\u001b[0m\n",
            "\u001b[32m[I 2023-05-09 02:04:43,316]\u001b[0m Trial 30 finished with value: 0.7451919387269573 and parameters: {'n_estimators': 610, 'learning_rate': 0.28364669477868604, 'max_depth': 12, 'gamma': 4.451457151171366, 'min_child_weight': 6, 'reg_alpha': 0.050824436924302045, 'reg_lambda': 0.06307544935697929, 'subsample': 0.8607256495544349, 'colsample_bytree': 0.7252917707832485, 'colsample_bylevel': 0.6788254821338042, 'colsample_bynode': 0.6839850573785803, 'grow_policy': 'depthwise'}. Best is trial 26 with value: 0.7488603398259428.\u001b[0m\n",
            "\u001b[32m[I 2023-05-09 02:04:48,136]\u001b[0m Trial 31 pruned. Trial was pruned at iteration 10.\u001b[0m\n",
            "\u001b[32m[I 2023-05-09 02:04:52,241]\u001b[0m Trial 32 pruned. Trial was pruned at iteration 10.\u001b[0m\n",
            "\u001b[32m[I 2023-05-09 02:04:56,655]\u001b[0m Trial 33 pruned. Trial was pruned at iteration 10.\u001b[0m\n",
            "\u001b[32m[I 2023-05-09 02:05:00,711]\u001b[0m Trial 34 pruned. Trial was pruned at iteration 10.\u001b[0m\n",
            "\u001b[32m[I 2023-05-09 02:05:19,706]\u001b[0m Trial 35 finished with value: 0.7451919387269573 and parameters: {'n_estimators': 816, 'learning_rate': 0.2931997104160451, 'max_depth': 10, 'gamma': 2.6349093499409726, 'min_child_weight': 14, 'reg_alpha': 0.05908920019449407, 'reg_lambda': 0.06526277526144907, 'subsample': 0.8370584943602289, 'colsample_bytree': 0.6847762683260717, 'colsample_bylevel': 0.7441870021629231, 'colsample_bynode': 0.7034462219005013, 'grow_policy': 'depthwise'}. Best is trial 26 with value: 0.7488603398259428.\u001b[0m\n",
            "\u001b[32m[I 2023-05-09 02:05:45,223]\u001b[0m Trial 36 finished with value: 0.748307777317309 and parameters: {'n_estimators': 505, 'learning_rate': 0.11162689304937873, 'max_depth': 15, 'gamma': 1.1589797208920318, 'min_child_weight': 6, 'reg_alpha': 0.04459668450714676, 'reg_lambda': 0.05951993615494899, 'subsample': 0.8794313578749858, 'colsample_bytree': 0.5373905086721058, 'colsample_bylevel': 0.7832405430588523, 'colsample_bynode': 0.6749099337536523, 'grow_policy': 'depthwise'}. Best is trial 26 with value: 0.7488603398259428.\u001b[0m\n",
            "\u001b[32m[I 2023-05-09 02:08:12,544]\u001b[0m Trial 37 finished with value: 0.7499961627603567 and parameters: {'n_estimators': 525, 'learning_rate': 0.015263278393582722, 'max_depth': 15, 'gamma': 1.0948330660225785, 'min_child_weight': 6, 'reg_alpha': 0.03623568043730908, 'reg_lambda': 0.06007869859011268, 'subsample': 0.8548742409049476, 'colsample_bytree': 0.5309376580048971, 'colsample_bylevel': 0.7997069469170991, 'colsample_bynode': 0.6734195113952958, 'grow_policy': 'depthwise'}. Best is trial 37 with value: 0.7499961627603567.\u001b[0m\n",
            "\u001b[32m[I 2023-05-09 02:11:18,647]\u001b[0m Trial 38 finished with value: 0.7496738346303203 and parameters: {'n_estimators': 502, 'learning_rate': 0.008885418045813371, 'max_depth': 15, 'gamma': 0.8075357789740618, 'min_child_weight': 6, 'reg_alpha': 0.0263647214503168, 'reg_lambda': 0.0586877792827719, 'subsample': 0.8140909548909006, 'colsample_bytree': 0.529791290307091, 'colsample_bylevel': 0.790075436692732, 'colsample_bynode': 0.597447212249251, 'grow_policy': 'depthwise'}. Best is trial 37 with value: 0.7499961627603567.\u001b[0m\n",
            "\u001b[32m[I 2023-05-09 02:14:48,296]\u001b[0m Trial 39 finished with value: 0.7497045325474666 and parameters: {'n_estimators': 598, 'learning_rate': 0.00911342540018851, 'max_depth': 15, 'gamma': 0.6253325202518603, 'min_child_weight': 8, 'reg_alpha': 0.024025323395692667, 'reg_lambda': 0.05233532120199231, 'subsample': 0.8152748504413544, 'colsample_bytree': 0.5019764438690738, 'colsample_bylevel': 0.819097829026803, 'colsample_bynode': 0.5887406100146944, 'grow_policy': 'depthwise'}. Best is trial 37 with value: 0.7499961627603567.\u001b[0m\n",
            "\u001b[32m[I 2023-05-09 02:15:43,801]\u001b[0m Trial 40 pruned. Trial was pruned at iteration 109.\u001b[0m\n",
            "\u001b[32m[I 2023-05-09 02:18:44,561]\u001b[0m Trial 41 finished with value: 0.7495663919203082 and parameters: {'n_estimators': 577, 'learning_rate': 0.00805935707717986, 'max_depth': 15, 'gamma': 0.9990583740338224, 'min_child_weight': 7, 'reg_alpha': 0.024476598697597298, 'reg_lambda': 0.051313649417014995, 'subsample': 0.8145224966925131, 'colsample_bytree': 0.5273478860710706, 'colsample_bylevel': 0.7957305239595056, 'colsample_bynode': 0.5648461220700158, 'grow_policy': 'depthwise'}. Best is trial 37 with value: 0.7499961627603567.\u001b[0m\n",
            "\u001b[32m[I 2023-05-09 02:20:00,092]\u001b[0m Trial 42 pruned. Trial was pruned at iteration 191.\u001b[0m\n",
            "\u001b[32m[I 2023-05-09 02:22:30,168]\u001b[0m Trial 43 finished with value: 0.7509631471504659 and parameters: {'n_estimators': 756, 'learning_rate': 0.013059591966818461, 'max_depth': 15, 'gamma': 1.3734018462451032, 'min_child_weight': 7, 'reg_alpha': 0.0179735395470121, 'reg_lambda': 0.059126402132885794, 'subsample': 0.8076140767507589, 'colsample_bytree': 0.5277014454268698, 'colsample_bylevel': 0.834642539372038, 'colsample_bynode': 0.5637465116572634, 'grow_policy': 'depthwise'}. Best is trial 43 with value: 0.7509631471504659.\u001b[0m\n",
            "\u001b[32m[I 2023-05-09 02:22:52,661]\u001b[0m Trial 44 pruned. Trial was pruned at iteration 57.\u001b[0m\n",
            "\u001b[32m[I 2023-05-09 02:25:02,179]\u001b[0m Trial 45 finished with value: 0.7507943086061611 and parameters: {'n_estimators': 452, 'learning_rate': 0.01737112657734613, 'max_depth': 15, 'gamma': 0.9564521754498954, 'min_child_weight': 7, 'reg_alpha': 0.018597987788857795, 'reg_lambda': 0.05907304460158717, 'subsample': 0.7801105592498236, 'colsample_bytree': 0.5001625201908552, 'colsample_bylevel': 0.867055481821656, 'colsample_bynode': 0.5588448306421809, 'grow_policy': 'depthwise'}. Best is trial 43 with value: 0.7509631471504659.\u001b[0m\n",
            "\u001b[32m[I 2023-05-09 02:25:23,784]\u001b[0m Trial 46 pruned. Trial was pruned at iteration 45.\u001b[0m\n",
            "\u001b[32m[I 2023-05-09 02:27:18,490]\u001b[0m Trial 47 finished with value: 0.7507789596475879 and parameters: {'n_estimators': 805, 'learning_rate': 0.0239757132646906, 'max_depth': 15, 'gamma': 1.2075903970407253, 'min_child_weight': 8, 'reg_alpha': 0.019111063413149644, 'reg_lambda': 0.038856443067947735, 'subsample': 0.7696842010832436, 'colsample_bytree': 0.5400352505984407, 'colsample_bylevel': 0.8601167034796818, 'colsample_bynode': 0.619765052463855, 'grow_policy': 'depthwise'}. Best is trial 43 with value: 0.7509631471504659.\u001b[0m\n",
            "\u001b[32m[I 2023-05-09 02:28:28,820]\u001b[0m Trial 48 finished with value: 0.7498887200503446 and parameters: {'n_estimators': 814, 'learning_rate': 0.031110128954749586, 'max_depth': 14, 'gamma': 1.7159355424251475, 'min_child_weight': 9, 'reg_alpha': 0.01805948895670142, 'reg_lambda': 0.038533280660883816, 'subsample': 0.76797702544746, 'colsample_bytree': 0.5519285439088368, 'colsample_bylevel': 0.8619959070785825, 'colsample_bynode': 0.6182082531522832, 'grow_policy': 'depthwise'}. Best is trial 43 with value: 0.7509631471504659.\u001b[0m\n",
            "\u001b[32m[I 2023-05-09 02:30:05,211]\u001b[0m Trial 49 finished with value: 0.7509631471504659 and parameters: {'n_estimators': 812, 'learning_rate': 0.023445677461310502, 'max_depth': 14, 'gamma': 1.5478465839675597, 'min_child_weight': 9, 'reg_alpha': 0.019362008356957852, 'reg_lambda': 0.03758376066151336, 'subsample': 0.7644173864842317, 'colsample_bytree': 0.5462412369739446, 'colsample_bylevel': 0.8960836917612622, 'colsample_bynode': 0.6081495313314208, 'grow_policy': 'depthwise'}. Best is trial 43 with value: 0.7509631471504659.\u001b[0m\n",
            "\u001b[32m[I 2023-05-09 02:30:09,623]\u001b[0m Trial 50 pruned. Trial was pruned at iteration 10.\u001b[0m\n",
            "\u001b[32m[I 2023-05-09 02:30:24,427]\u001b[0m Trial 51 pruned. Trial was pruned at iteration 46.\u001b[0m\n",
            "\u001b[32m[I 2023-05-09 02:30:34,905]\u001b[0m Trial 52 pruned. Trial was pruned at iteration 32.\u001b[0m\n",
            "\u001b[32m[I 2023-05-09 02:31:47,139]\u001b[0m Trial 53 finished with value: 0.7503031419318199 and parameters: {'n_estimators': 1009, 'learning_rate': 0.0369927557510893, 'max_depth': 14, 'gamma': 1.4421174203831104, 'min_child_weight': 9, 'reg_alpha': 0.020238314360000446, 'reg_lambda': 0.03778892963991696, 'subsample': 0.7940619161066816, 'colsample_bytree': 0.580286422488036, 'colsample_bylevel': 0.8952770647261232, 'colsample_bynode': 0.5422353139063334, 'grow_policy': 'depthwise'}. Best is trial 43 with value: 0.7509631471504659.\u001b[0m\n",
            "\u001b[32m[I 2023-05-09 02:31:57,508]\u001b[0m Trial 54 pruned. Trial was pruned at iteration 31.\u001b[0m\n",
            "\u001b[32m[I 2023-05-09 02:32:01,777]\u001b[0m Trial 55 pruned. Trial was pruned at iteration 10.\u001b[0m\n",
            "\u001b[32m[I 2023-05-09 02:32:30,861]\u001b[0m Trial 56 pruned. Trial was pruned at iteration 35.\u001b[0m\n",
            "\u001b[32m[I 2023-05-09 02:32:36,154]\u001b[0m Trial 57 pruned. Trial was pruned at iteration 10.\u001b[0m\n",
            "\u001b[32m[I 2023-05-09 02:32:45,738]\u001b[0m Trial 58 pruned. Trial was pruned at iteration 31.\u001b[0m\n",
            "\u001b[32m[I 2023-05-09 02:33:13,231]\u001b[0m Trial 59 pruned. Trial was pruned at iteration 406.\u001b[0m\n",
            "\u001b[32m[I 2023-05-09 02:33:20,275]\u001b[0m Trial 60 pruned. Trial was pruned at iteration 10.\u001b[0m\n",
            "\u001b[32m[I 2023-05-09 02:34:28,944]\u001b[0m Trial 61 finished with value: 0.7508403554818806 and parameters: {'n_estimators': 789, 'learning_rate': 0.034337507860761785, 'max_depth': 14, 'gamma': 1.7089433148827349, 'min_child_weight': 9, 'reg_alpha': 0.01802087388475968, 'reg_lambda': 0.038100764714607833, 'subsample': 0.7649881445674843, 'colsample_bytree': 0.5497827532157984, 'colsample_bylevel': 0.8655743937277346, 'colsample_bynode': 0.5753686056642632, 'grow_policy': 'depthwise'}. Best is trial 43 with value: 0.7509631471504659.\u001b[0m\n",
            "\u001b[32m[I 2023-05-09 02:35:40,387]\u001b[0m Trial 62 finished with value: 0.75059477214471 and parameters: {'n_estimators': 865, 'learning_rate': 0.030858587134607245, 'max_depth': 14, 'gamma': 1.5267259899714731, 'min_child_weight': 9, 'reg_alpha': 0.015149050022037622, 'reg_lambda': 0.036959461000340595, 'subsample': 0.749564904002494, 'colsample_bytree': 0.5881714578791601, 'colsample_bylevel': 0.8960503665580241, 'colsample_bynode': 0.5704369097721391, 'grow_policy': 'depthwise'}. Best is trial 43 with value: 0.7509631471504659.\u001b[0m\n",
            "\u001b[32m[I 2023-05-09 02:35:44,844]\u001b[0m Trial 63 pruned. Trial was pruned at iteration 10.\u001b[0m\n",
            "\u001b[32m[I 2023-05-09 02:36:09,707]\u001b[0m Trial 64 finished with value: 0.7483231262758822 and parameters: {'n_estimators': 1029, 'learning_rate': 0.1575093690102318, 'max_depth': 14, 'gamma': 1.544690217578774, 'min_child_weight': 9, 'reg_alpha': 0.014264094053785398, 'reg_lambda': 0.03828670439865051, 'subsample': 0.7829795543451457, 'colsample_bytree': 0.5685178486942166, 'colsample_bylevel': 0.8734834824534202, 'colsample_bynode': 0.5777521416038934, 'grow_policy': 'depthwise'}. Best is trial 43 with value: 0.7509631471504659.\u001b[0m\n",
            "\u001b[32m[I 2023-05-09 02:36:15,410]\u001b[0m Trial 65 pruned. Trial was pruned at iteration 10.\u001b[0m\n",
            "\u001b[32m[I 2023-05-09 02:36:20,929]\u001b[0m Trial 66 pruned. Trial was pruned at iteration 10.\u001b[0m\n",
            "\u001b[32m[I 2023-05-09 02:36:25,909]\u001b[0m Trial 67 pruned. Trial was pruned at iteration 10.\u001b[0m\n",
            "\u001b[32m[I 2023-05-09 02:36:32,130]\u001b[0m Trial 68 pruned. Trial was pruned at iteration 10.\u001b[0m\n",
            "\u001b[32m[I 2023-05-09 02:36:43,785]\u001b[0m Trial 69 pruned. Trial was pruned at iteration 178.\u001b[0m\n",
            "\u001b[32m[I 2023-05-09 02:36:49,114]\u001b[0m Trial 70 pruned. Trial was pruned at iteration 23.\u001b[0m\n",
            "\u001b[32m[I 2023-05-09 02:37:29,042]\u001b[0m Trial 71 pruned. Trial was pruned at iteration 93.\u001b[0m\n",
            "\u001b[32m[I 2023-05-09 02:39:29,226]\u001b[0m Trial 72 finished with value: 0.7495203450445888 and parameters: {'n_estimators': 853, 'learning_rate': 0.02898019672314848, 'max_depth': 15, 'gamma': 0.5545062047061128, 'min_child_weight': 5, 'reg_alpha': 0.03596764011580804, 'reg_lambda': 0.0361142490691945, 'subsample': 0.7785489257053987, 'colsample_bytree': 0.5705905109155613, 'colsample_bylevel': 0.8569423927314932, 'colsample_bynode': 0.6004171074164145, 'grow_policy': 'depthwise'}. Best is trial 43 with value: 0.7509631471504659.\u001b[0m\n",
            "\u001b[32m[I 2023-05-09 02:40:22,809]\u001b[0m Trial 73 finished with value: 0.7491059231631134 and parameters: {'n_estimators': 654, 'learning_rate': 0.06619636744826969, 'max_depth': 15, 'gamma': 0.5001101346570052, 'min_child_weight': 7, 'reg_alpha': 0.019926255874596618, 'reg_lambda': 0.028459364855828978, 'subsample': 0.7635207644494406, 'colsample_bytree': 0.527828339296748, 'colsample_bylevel': 0.8696123887299689, 'colsample_bynode': 0.5793376824239929, 'grow_policy': 'depthwise'}. Best is trial 43 with value: 0.7509631471504659.\u001b[0m\n",
            "\u001b[32m[I 2023-05-09 02:40:54,357]\u001b[0m Trial 74 finished with value: 0.7494436002517231 and parameters: {'n_estimators': 537, 'learning_rate': 0.1007301419945234, 'max_depth': 15, 'gamma': 1.2944781617767107, 'min_child_weight': 8, 'reg_alpha': 0.022197683095247063, 'reg_lambda': 0.03696693792097136, 'subsample': 0.8511394455984002, 'colsample_bytree': 0.5148884863620166, 'colsample_bylevel': 0.8451668105715563, 'colsample_bynode': 0.6326776403039227, 'grow_policy': 'depthwise'}. Best is trial 43 with value: 0.7509631471504659.\u001b[0m\n",
            "\u001b[32m[I 2023-05-09 02:40:59,636]\u001b[0m Trial 75 pruned. Trial was pruned at iteration 10.\u001b[0m\n",
            "\u001b[32m[I 2023-05-09 02:41:05,120]\u001b[0m Trial 76 pruned. Trial was pruned at iteration 10.\u001b[0m\n",
            "\u001b[32m[I 2023-05-09 02:41:30,908]\u001b[0m Trial 77 pruned. Trial was pruned at iteration 44.\u001b[0m\n",
            "\u001b[32m[I 2023-05-09 02:41:39,900]\u001b[0m Trial 78 pruned. Trial was pruned at iteration 15.\u001b[0m\n",
            "\u001b[32m[I 2023-05-09 02:42:24,248]\u001b[0m Trial 79 pruned. Trial was pruned at iteration 524.\u001b[0m\n",
            "\u001b[32m[I 2023-05-09 02:42:29,857]\u001b[0m Trial 80 pruned. Trial was pruned at iteration 10.\u001b[0m\n",
            "\u001b[32m[I 2023-05-09 02:42:41,586]\u001b[0m Trial 81 pruned. Trial was pruned at iteration 34.\u001b[0m\n",
            "\u001b[32m[I 2023-05-09 02:42:47,796]\u001b[0m Trial 82 pruned. Trial was pruned at iteration 12.\u001b[0m\n",
            "\u001b[32m[I 2023-05-09 02:42:53,253]\u001b[0m Trial 83 pruned. Trial was pruned at iteration 10.\u001b[0m\n",
            "\u001b[32m[I 2023-05-09 02:44:14,032]\u001b[0m Trial 84 finished with value: 0.7507789596475879 and parameters: {'n_estimators': 768, 'learning_rate': 0.031141609961991314, 'max_depth': 14, 'gamma': 0.8010912768017918, 'min_child_weight': 10, 'reg_alpha': 0.016972342659646263, 'reg_lambda': 0.035562196518737814, 'subsample': 0.7837403183481535, 'colsample_bytree': 0.5233578344099575, 'colsample_bylevel': 0.8813507224710831, 'colsample_bynode': 0.5889261912710845, 'grow_policy': 'depthwise'}. Best is trial 43 with value: 0.7509631471504659.\u001b[0m\n",
            "\u001b[32m[I 2023-05-09 02:44:35,822]\u001b[0m Trial 85 finished with value: 0.7476784700158093 and parameters: {'n_estimators': 757, 'learning_rate': 0.19281110340179364, 'max_depth': 15, 'gamma': 0.7758900670935625, 'min_child_weight': 10, 'reg_alpha': 0.012743462095242438, 'reg_lambda': 0.03207906578139963, 'subsample': 0.7841041649802748, 'colsample_bytree': 0.5004976857204201, 'colsample_bylevel': 0.8867533880569537, 'colsample_bynode': 0.5888628278366976, 'grow_policy': 'depthwise'}. Best is trial 43 with value: 0.7509631471504659.\u001b[0m\n",
            "\u001b[32m[I 2023-05-09 02:44:40,902]\u001b[0m Trial 86 pruned. Trial was pruned at iteration 10.\u001b[0m\n",
            "\u001b[32m[I 2023-05-09 02:49:57,221]\u001b[0m Trial 87 finished with value: 0.7495049960860156 and parameters: {'n_estimators': 646, 'learning_rate': 0.017946802865955368, 'max_depth': 15, 'gamma': 0.005693618353348473, 'min_child_weight': 7, 'reg_alpha': 0.016549602269936053, 'reg_lambda': 0.04282784085804958, 'subsample': 0.8243829308079633, 'colsample_bytree': 0.5424395321141565, 'colsample_bylevel': 0.8899940507148004, 'colsample_bynode': 0.5324775453763013, 'grow_policy': 'lossguide'}. Best is trial 43 with value: 0.7509631471504659.\u001b[0m\n",
            "\u001b[32m[I 2023-05-09 02:50:03,110]\u001b[0m Trial 88 pruned. Trial was pruned at iteration 10.\u001b[0m\n",
            "\u001b[32m[I 2023-05-09 02:51:02,888]\u001b[0m Trial 89 finished with value: 0.7492901106659913 and parameters: {'n_estimators': 782, 'learning_rate': 0.05491542593918761, 'max_depth': 14, 'gamma': 0.3831680982392078, 'min_child_weight': 5, 'reg_alpha': 0.0270537016414875, 'reg_lambda': 0.06105107835350698, 'subsample': 0.7908687267661556, 'colsample_bytree': 0.511008237201446, 'colsample_bylevel': 0.8238854603980776, 'colsample_bynode': 0.558503982559747, 'grow_policy': 'depthwise'}. Best is trial 43 with value: 0.7509631471504659.\u001b[0m\n",
            "\u001b[32m[I 2023-05-09 02:51:34,156]\u001b[0m Trial 90 finished with value: 0.7487528971159307 and parameters: {'n_estimators': 689, 'learning_rate': 0.10019469446027966, 'max_depth': 15, 'gamma': 0.8660248083479968, 'min_child_weight': 8, 'reg_alpha': 0.02327248647537148, 'reg_lambda': 0.05792450151625166, 'subsample': 0.755632286261219, 'colsample_bytree': 0.5776451571811055, 'colsample_bylevel': 0.8067533604351479, 'colsample_bynode': 0.5694272860404517, 'grow_policy': 'depthwise'}. Best is trial 43 with value: 0.7509631471504659.\u001b[0m\n",
            "\u001b[32m[I 2023-05-09 02:51:41,049]\u001b[0m Trial 91 pruned. Trial was pruned at iteration 10.\u001b[0m\n",
            "\u001b[32m[I 2023-05-09 02:51:51,566]\u001b[0m Trial 92 pruned. Trial was pruned at iteration 28.\u001b[0m\n",
            "\u001b[32m[I 2023-05-09 02:51:57,412]\u001b[0m Trial 93 pruned. Trial was pruned at iteration 10.\u001b[0m\n",
            "\u001b[32m[I 2023-05-09 02:52:49,763]\u001b[0m Trial 94 finished with value: 0.7496891835888935 and parameters: {'n_estimators': 869, 'learning_rate': 0.04646287745556671, 'max_depth': 14, 'gamma': 1.3199862786437182, 'min_child_weight': 6, 'reg_alpha': 0.017090517646519816, 'reg_lambda': 0.03953765644680296, 'subsample': 0.7671544675896421, 'colsample_bytree': 0.5650140924666576, 'colsample_bylevel': 0.8550039833472577, 'colsample_bynode': 0.6110629668483504, 'grow_policy': 'depthwise'}. Best is trial 43 with value: 0.7509631471504659.\u001b[0m\n",
            "\u001b[32m[I 2023-05-09 02:52:54,582]\u001b[0m Trial 95 pruned. Trial was pruned at iteration 10.\u001b[0m\n",
            "\u001b[32m[I 2023-05-09 02:53:02,211]\u001b[0m Trial 96 pruned. Trial was pruned at iteration 12.\u001b[0m\n",
            "\u001b[32m[I 2023-05-09 02:55:23,395]\u001b[0m Trial 97 finished with value: 0.7504873294346979 and parameters: {'n_estimators': 1009, 'learning_rate': 0.02182803910188776, 'max_depth': 15, 'gamma': 0.4085107357970934, 'min_child_weight': 9, 'reg_alpha': 0.019033947579498035, 'reg_lambda': 0.06645225996095366, 'subsample': 0.7772563688896404, 'colsample_bytree': 0.5734085993512685, 'colsample_bylevel': 0.8933958332232704, 'colsample_bynode': 0.6030252913832591, 'grow_policy': 'depthwise'}. Best is trial 43 with value: 0.7509631471504659.\u001b[0m\n",
            "\u001b[32m[I 2023-05-09 02:57:38,823]\u001b[0m Trial 98 finished with value: 0.7498273242160518 and parameters: {'n_estimators': 1195, 'learning_rate': 0.020163809416783657, 'max_depth': 15, 'gamma': 0.47179268701681387, 'min_child_weight': 8, 'reg_alpha': 0.01931466246050383, 'reg_lambda': 0.06626253641803437, 'subsample': 0.7821131504272149, 'colsample_bytree': 0.5729250199785363, 'colsample_bylevel': 0.8888112045450616, 'colsample_bynode': 0.5973674651522074, 'grow_policy': 'depthwise'}. Best is trial 43 with value: 0.7509631471504659.\u001b[0m\n",
            "\u001b[32m[I 2023-05-09 02:58:24,513]\u001b[0m Trial 99 finished with value: 0.7499654648432104 and parameters: {'n_estimators': 1124, 'learning_rate': 0.07539639313478366, 'max_depth': 15, 'gamma': 0.014159988227662179, 'min_child_weight': 18, 'reg_alpha': 0.028756967239506888, 'reg_lambda': 0.061826167932918924, 'subsample': 0.8124306806980944, 'colsample_bytree': 0.5614791075240763, 'colsample_bylevel': 0.8991075364289479, 'colsample_bynode': 0.6049514313218038, 'grow_policy': 'depthwise'}. Best is trial 43 with value: 0.7509631471504659.\u001b[0m\n"
          ]
        }
      ],
      "source": [
        "study = optuna.create_study(\n",
        "    study_name='xgb-DR-32-RU-16-Target-study', \n",
        "    storage='sqlite:///xgb-DR-32-RU-16-Target.db', \n",
        "    load_if_exists=True,\n",
        "    direction=\"maximize\",\n",
        "    pruner=optuna.pruners.MedianPruner(n_warmup_steps=10), \n",
        ")\n",
        "\n",
        "X_train, X_valid, y_train, y_valid = train_test_split(\n",
        "    features_df, \n",
        "    labels_df.to_numpy().squeeze(), \n",
        "    stratify=labels_df.to_numpy().squeeze(),\n",
        "    random_state=69)\n",
        "\n",
        "X_train = preprocessor_xgboost.fit_transform(X_train, y_train)\n",
        "X_valid = preprocessor_xgboost.transform(X_valid)\n",
        "\n",
        "study.optimize(\n",
        "    lambda trial: objective(trial, \n",
        "                            X_train=X_train, \n",
        "                            y_train=y_train, \n",
        "                            X_valid=X_valid, \n",
        "                            y_valid=y_valid), \n",
        "    n_trials=100)"
      ]
    },
    {
      "cell_type": "code",
      "execution_count": null,
      "metadata": {
        "colab": {
          "base_uri": "https://localhost:8080/"
        },
        "id": "nThDqwyrJzaB",
        "outputId": "0439e90c-b39a-4913-9aac-a195af40dc91"
      },
      "outputs": [
        {
          "name": "stdout",
          "output_type": "stream",
          "text": [
            "Best score: 0.7509631471504659\n"
          ]
        },
        {
          "data": {
            "text/plain": [
              "{'colsample_bylevel': 0.834642539372038,\n",
              " 'colsample_bynode': 0.5637465116572634,\n",
              " 'colsample_bytree': 0.5277014454268698,\n",
              " 'gamma': 1.3734018462451032,\n",
              " 'grow_policy': 'depthwise',\n",
              " 'learning_rate': 0.013059591966818461,\n",
              " 'max_depth': 15,\n",
              " 'min_child_weight': 7,\n",
              " 'n_estimators': 756,\n",
              " 'reg_alpha': 0.0179735395470121,\n",
              " 'reg_lambda': 0.059126402132885794,\n",
              " 'subsample': 0.8076140767507589}"
            ]
          },
          "execution_count": 31,
          "metadata": {},
          "output_type": "execute_result"
        }
      ],
      "source": [
        "print(f\"Best score: {study.best_trial.value}\")\n",
        "study.best_trial.params"
      ]
    },
    {
      "attachments": {},
      "cell_type": "markdown",
      "metadata": {
        "id": "V3SZxFnQJzaC"
      },
      "source": [
        "### Evaluate Best Model"
      ]
    },
    {
      "cell_type": "code",
      "execution_count": 15,
      "metadata": {
        "colab": {
          "base_uri": "https://localhost:8080/"
        },
        "id": "1GUqw7tVJzaD",
        "outputId": "f0e7f985-0231-4878-ec02-eb407ef14512"
      },
      "outputs": [
        {
          "data": {
            "text/plain": [
              "0.7509171002747465"
            ]
          },
          "execution_count": 15,
          "metadata": {},
          "output_type": "execute_result"
        }
      ],
      "source": [
        "hyperparams = {\n",
        "    'objective': 'multi:softmax',\n",
        "    'eval_metric': 'auc',\n",
        "    'tree_method': 'gpu_hist',\n",
        "    'nthread': 6,\n",
        "    'seed': 69,\n",
        "    'colsample_bylevel': 0.834642539372038,\n",
        "    'colsample_bynode': 0.5637465116572634,\n",
        "    'colsample_bytree': 0.5277014454268698,\n",
        "    'gamma': 1.3734018462451032,\n",
        "    'grow_policy': 'depthwise',\n",
        "    'learning_rate': 0.013059591966818461,\n",
        "    'max_depth': 15,\n",
        "    'min_child_weight': 7,\n",
        "    'n_estimators': 756,\n",
        "    'reg_alpha': 0.0179735395470121,\n",
        "    'reg_lambda': 0.059126402132885794,\n",
        "    'subsample': 0.8076140767507589\n",
        "}\n",
        "\n",
        "X_train, X_valid, y_train, y_valid = train_test_split(\n",
        "    features_df, \n",
        "    labels_df.to_numpy().squeeze(), \n",
        "    stratify=labels_df.to_numpy().squeeze(),\n",
        "    random_state=69)\n",
        "\n",
        "X_train = preprocessor_xgboost.fit_transform(X_train, y_train)\n",
        "X_valid = preprocessor_xgboost.transform(X_valid)\n",
        "\n",
        "xgb_clf = XGBClassifier(\n",
        "    **hyperparams, \n",
        "    early_stopping_rounds=50,\n",
        ")\n",
        "\n",
        "xgb_clf.fit(\n",
        "    X_train, \n",
        "    y_train,  \n",
        "    eval_set=[(X_valid, y_valid)],\n",
        "    verbose=False,\n",
        ")\n",
        "results = f1_score(y_valid, xgb_clf.predict(X_valid), average='micro')\n",
        "results"
      ]
    },
    {
      "attachments": {},
      "cell_type": "markdown",
      "metadata": {
        "id": "dNziu83qJzaG"
      },
      "source": [
        "## Submission"
      ]
    },
    {
      "cell_type": "code",
      "execution_count": 16,
      "metadata": {
        "id": "mE7r8xbionCC"
      },
      "outputs": [],
      "source": [
        "from os import PathLike\n",
        "import pandas as pd\n",
        "\n",
        "\n",
        "def create_submission(predictions, submission_formats_path: PathLike):\n",
        "    submission_format = pd.read_csv(submission_formats_path, index_col=0)\n",
        "    submission = pd.DataFrame(data=predictions, columns=submission_format.columns, index=submission_format.index)\n",
        "    submission['damage_grade'] = submission['damage_grade'].astype(int)\n",
        "    return submission"
      ]
    },
    {
      "cell_type": "code",
      "execution_count": 17,
      "metadata": {
        "id": "IibJAoDUJzaH"
      },
      "outputs": [],
      "source": [
        "X_test = preprocessor_xgboost.transform(test_features_df)\n",
        "\n",
        "\n",
        "submission = create_submission(xgb_clf.predict(X_test) + 1, submission_formats_path=SUBMISSION_FORMAT_PATH)\n",
        "submission.to_csv(SUBMISSION_DIR / \"xgb-DR-32-RU-16-Catboost-raw.csv\")"
      ]
    },
    {
      "attachments": {},
      "cell_type": "markdown",
      "metadata": {
        "id": "RC5QTt-4hZwd"
      },
      "source": [
        "## Ensemble"
      ]
    },
    {
      "attachments": {},
      "cell_type": "markdown",
      "metadata": {},
      "source": [
        "### Bagging"
      ]
    },
    {
      "cell_type": "code",
      "execution_count": null,
      "metadata": {
        "id": "5rA6CKX7JzaI"
      },
      "outputs": [],
      "source": [
        "K = 5\n",
        "\n",
        "models = [None for _ in range(K)]\n",
        "weights = np.zeros(K)\n",
        "\n",
        "for i, (train_idx, valid_idx) in enumerate(StratifiedKFold(n_splits=K)):\n",
        "  X_train, y_train = features_df.iloc[train_idx], labels_df.iloc[train_idx].to_numpy().squeeze()\n",
        "  X_valid, y_valid = features_df.iloc[valid_idx], labels_df.iloc[valid_idx].to_numpy().squeeze()\n",
        "  X_train = preprocessor_xgboost.fit_transform(X_train, y_train)\n",
        "  X_valid = preprocessor_xgboost.transform(X_valid)\n",
        "  models[i] = XGBClassifier(**hyperparams, early_stopping_rounds=50).fit(\n",
        "    X_train, y_train,  \n",
        "    eval_set=[(X_valid, y_valid)], verbose=False)\n",
        "  \n",
        "  weights[i] = f1_score(y_valid, xgb_clf.predict(X_valid), average='micro')\n",
        "\n",
        "weights = weights / weights.sum()"
      ]
    },
    {
      "cell_type": "code",
      "execution_count": null,
      "metadata": {
        "id": "1d2B1YXej3Sr"
      },
      "outputs": [],
      "source": [
        "preprocessor_xgboost.fit(features_df, labels_df.to_numpy().squeeze())\n",
        "X_test = preprocessor_xgboost.transform(test_features_df)\n",
        "\n",
        "preds = np.zeros(X_test.shape[0])\n",
        "### Predict\n",
        "for i in range(K):\n",
        "  preds += models[i].predict_proba(X_test) * weights[i]\n",
        "\n",
        "predictions = preds.argmax(axis=1)"
      ]
    },
    {
      "cell_type": "code",
      "execution_count": null,
      "metadata": {
        "id": "yawy9T9Ck7jW"
      },
      "outputs": [],
      "source": [
        "submission = create_submission(predictions + 1, submission_formats_path=SUBMISSION_FORMAT_PATH)\n",
        "submission.to_csv(SUBMISSION_DIR / \"xgb-DR-32-RU-16-Target-bagged.csv\")"
      ]
    }
  ],
  "metadata": {
    "accelerator": "GPU",
    "colab": {
      "gpuType": "T4",
      "provenance": []
    },
    "gpuClass": "standard",
    "kernelspec": {
      "display_name": "env",
      "language": "python",
      "name": "python3"
    },
    "language_info": {
      "codemirror_mode": {
        "name": "ipython",
        "version": 3
      },
      "file_extension": ".py",
      "mimetype": "text/x-python",
      "name": "python",
      "nbconvert_exporter": "python",
      "pygments_lexer": "ipython3",
      "version": "3.10.4"
    },
    "orig_nbformat": 4
  },
  "nbformat": 4,
  "nbformat_minor": 0
}
